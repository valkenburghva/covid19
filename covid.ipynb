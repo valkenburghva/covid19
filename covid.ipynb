{
 "cells": [
  {
   "cell_type": "code",
   "execution_count": 16,
   "metadata": {},
   "outputs": [
    {
     "name": "stdout",
     "output_type": "stream",
     "text": [
      "The autoreload extension is already loaded. To reload it, use:\n",
      "  %reload_ext autoreload\n"
     ]
    }
   ],
   "source": [
    "%load_ext autoreload\n",
    "%autoreload 2"
   ]
  },
  {
   "cell_type": "code",
   "execution_count": 17,
   "metadata": {},
   "outputs": [
    {
     "name": "stdout",
     "output_type": "stream",
     "text": [
      "Defaulting to user installation because normal site-packages is not writeable\n",
      "Requirement already satisfied: plotly in /mnt/c/Users/wva/.local/lib/python3.8/site-packages (4.5.4)\n",
      "Requirement already satisfied: xlrd in /mnt/c/Users/wva/.local/lib/python3.8/site-packages (1.2.0)\n",
      "Requirement already satisfied: psutil in /mnt/c/Users/wva/.local/lib/python3.8/site-packages (5.7.0)\n",
      "Requirement already satisfied: requests in /mnt/c/Users/wva/.local/lib/python3.8/site-packages (2.23.0)\n",
      "Requirement already satisfied: orca in /mnt/c/Users/wva/.local/lib/python3.8/site-packages (1.5.3)\n",
      "Requirement already satisfied: six in /mnt/c/Users/wva/.local/lib/python3.8/site-packages (from plotly) (1.14.0)\n",
      "Requirement already satisfied: retrying>=1.3.3 in /mnt/c/Users/wva/.local/lib/python3.8/site-packages (from plotly) (1.3.3)\n",
      "Requirement already satisfied: urllib3!=1.25.0,!=1.25.1,<1.26,>=1.21.1 in /mnt/c/Users/wva/.local/lib/python3.8/site-packages (from requests) (1.25.8)\n",
      "Requirement already satisfied: chardet<4,>=3.0.2 in /mnt/c/Users/wva/.local/lib/python3.8/site-packages (from requests) (3.0.4)\n",
      "Requirement already satisfied: certifi>=2017.4.17 in /mnt/c/Users/wva/.local/lib/python3.8/site-packages (from requests) (2019.11.28)\n",
      "Requirement already satisfied: idna<3,>=2.5 in /mnt/c/Users/wva/.local/lib/python3.8/site-packages (from requests) (2.9)\n",
      "Requirement already satisfied: toolz>=0.8.1 in /mnt/c/Users/wva/.local/lib/python3.8/site-packages (from orca) (0.10.0)\n",
      "Requirement already satisfied: tables<3.7,>=3.1; python_version >= \"3.6\" in /mnt/c/Users/wva/.local/lib/python3.8/site-packages (from orca) (3.6.1)\n",
      "Requirement already satisfied: pandas>=0.15.0 in /mnt/c/Users/wva/.local/lib/python3.8/site-packages (from orca) (1.0.3)\n",
      "Requirement already satisfied: numpy>=1.9.3 in /mnt/c/Users/wva/.local/lib/python3.8/site-packages (from tables<3.7,>=3.1; python_version >= \"3.6\"->orca) (1.18.2)\n",
      "Requirement already satisfied: numexpr>=2.6.2 in /mnt/c/Users/wva/.local/lib/python3.8/site-packages (from tables<3.7,>=3.1; python_version >= \"3.6\"->orca) (2.7.1)\n",
      "Requirement already satisfied: pytz>=2017.2 in /mnt/c/Users/wva/.local/lib/python3.8/site-packages (from pandas>=0.15.0->orca) (2019.3)\n",
      "Requirement already satisfied: python-dateutil>=2.6.1 in /mnt/c/Users/wva/.local/lib/python3.8/site-packages (from pandas>=0.15.0->orca) (2.8.1)\n"
     ]
    }
   ],
   "source": [
    "!pip3 install plotly xlrd psutil requests orca"
   ]
  },
  {
   "cell_type": "code",
   "execution_count": 18,
   "metadata": {},
   "outputs": [
    {
     "name": "stdout",
     "output_type": "stream",
     "text": [
      "        DateRep Countries and territories  Day  Month  Year  Cases  Deaths  \\\n",
      "0    2019-12-31                   Vietnam   31     12  2019      0       0   \n",
      "1    2019-12-31                  Pakistan   31     12  2019      0       0   \n",
      "2    2019-12-31                    Greece   31     12  2019      0       0   \n",
      "3    2019-12-31               Philippines   31     12  2019      0       0   \n",
      "4    2019-12-31                   Germany   31     12  2019      0       0   \n",
      "...         ...                       ...  ...    ...   ...    ...     ...   \n",
      "5524 2020-03-18                 Lithuania   18      3  2020      8       0   \n",
      "5525 2020-03-18             Liechtenstein   18      3  2020      0       0   \n",
      "5526 2020-03-18                   Liberia   18      3  2020      1       0   \n",
      "5527 2020-03-18                    Mexico   18      3  2020     11       0   \n",
      "5528 2020-03-18               Afghanistan   18      3  2020      1       0   \n",
      "\n",
      "     GeoId  deathcumsum  casescumsum  mortality  \n",
      "0       VN            0            0        NaN  \n",
      "1       PK            0            0        NaN  \n",
      "2       EL            0            0        NaN  \n",
      "3       PH            0            0        NaN  \n",
      "4       DE            0            0        NaN  \n",
      "...    ...          ...          ...        ...  \n",
      "5524    LT            0           25        0.0  \n",
      "5525    LI            0            7        0.0  \n",
      "5526    LR            0            2        0.0  \n",
      "5527    MX            0           93        0.0  \n",
      "5528    AF            0           22        0.0  \n",
      "\n",
      "[5529 rows x 11 columns]\n"
     ]
    }
   ],
   "source": [
    "import pandas as pd \n",
    "\n",
    "import plotly.express as px\n",
    "\n",
    "df = pd.read_excel(\"COVID-19-geographic-disbtribution-worldwide-2020-03-18.xls\")\n",
    "df = df.set_index([\"DateRep\", \"Countries and territories\"])\n",
    "df = df.sort_values(by = \"DateRep\", axis = 'index')\n",
    "df['deathcumsum'] = df.groupby(level=-1)['Deaths'].cumsum()\n",
    "df['casescumsum'] = df.groupby(level=-1)['Cases'].cumsum()\n",
    "df[\"mortality\"] = df[\"deathcumsum\"] / df[\"casescumsum\"]\n",
    "\n",
    "\n",
    "# cases = df.groupby(\"Countries and territories\").agg({\"Deaths\" : \"sum\", \"Cases\" : \"sum\"})\n",
    "# cases[\"mortality\"] = round(cases[\"Deaths\"] / cases[\"Cases\"] * 100, 2)\n",
    "# cases.sort_values(\"Cases\", inplace = True, ascending = False)\n",
    "# cases[\"country\"] = cases.index\n",
    "# print(cases)\n",
    "\n",
    "# fig = px.scatter(cases, x=\"Cases\", y=\"Deaths\", color=\"country\", log_x = True, log_y = True)\n",
    "#         # , marginal_y=\"violin\", marginal_x=\"box\", trendline=\"ols\")\n",
    "# fig.show()\n",
    "\n",
    "df = df.reset_index()\n",
    "print(df)"
   ]
  },
  {
   "cell_type": "code",
   "execution_count": 21,
   "metadata": {},
   "outputs": [
    {
     "data": {
      "application/vnd.plotly.v1+json": {
       "config": {
        "plotlyServerURL": "https://plot.ly"
       },
       "data": [
        {
         "hoverlabel": {
          "namelength": 0
         },
         "hovertemplate": "<b>%{hovertext}</b><br><br>Countries and territories=China<br>casescumsum=%{x}<br>mortality=%{y}",
         "hovertext": [
          "China",
          "China",
          "China",
          "China",
          "China",
          "China",
          "China",
          "China",
          "China",
          "China",
          "China",
          "China",
          "China",
          "China",
          "China",
          "China",
          "China",
          "China",
          "China",
          "China",
          "China",
          "China",
          "China",
          "China",
          "China",
          "China",
          "China",
          "China",
          "China",
          "China",
          "China",
          "China",
          "China",
          "China",
          "China",
          "China",
          "China",
          "China",
          "China",
          "China",
          "China",
          "China",
          "China",
          "China",
          "China",
          "China",
          "China",
          "China",
          "China",
          "China",
          "China",
          "China",
          "China",
          "China"
         ],
         "legendgroup": "China",
         "line": {
          "color": "#636efa",
          "dash": "solid"
         },
         "mode": "lines",
         "name": "China",
         "showlegend": true,
         "type": "scatter",
         "x": [
          1323,
          1988,
          2775,
          4528,
          5994,
          7734,
          9714,
          11809,
          14399,
          17211,
          20448,
          24320,
          28047,
          31207,
          34625,
          37232,
          40206,
          42696,
          44724,
          59865,
          64021,
          66559,
          68566,
          70618,
          72508,
          74258,
          74652,
          75543,
          76369,
          77016,
          77234,
          77749,
          78159,
          78598,
          78927,
          79355,
          79929,
          80134,
          80261,
          80380,
          80497,
          80667,
          80768,
          80814,
          80859,
          80879,
          80908,
          80932,
          80954,
          80973,
          80995,
          81020,
          81130,
          81163
         ],
         "xaxis": "x",
         "y": [
          0.030990173847316706,
          0.028169014084507043,
          0.02918918918918919,
          0.023409893992932862,
          0.022022022022022022,
          0.021980863718644945,
          0.021927115503397158,
          0.021932424422050976,
          0.021112577262309883,
          0.02097495787577712,
          0.020833333333333332,
          0.020230263157894737,
          0.02010910257781581,
          0.020412087031755694,
          0.02088086642599278,
          0.021809196390201978,
          0.022608565885688704,
          0.023819561551433388,
          0.024908326625525445,
          0.022851415685291906,
          0.02157104700020306,
          0.02289697862047206,
          0.02429775690575504,
          0.025078591860432185,
          0.025776466045126054,
          0.027040857550701607,
          0.028398435406954938,
          0.029625511298201023,
          0.030732365226728123,
          0.031746650046743534,
          0.03359919206567056,
          0.034276968192516945,
          0.034762471372458706,
          0.03493727575765287,
          0.03534912007297883,
          0.03575074034402369,
          0.03593188955197738,
          0.036364090149000425,
          0.03670524912473057,
          0.03711122169693954,
          0.0374423891573599,
          0.03773538125875513,
          0.03803486529318542,
          0.03834731605909867,
          0.03861042060871393,
          0.038811063440448074,
          0.03906906609976764,
          0.039193396925814264,
          0.03926921461570768,
          0.03944524718115915,
          0.03954565096610902,
          0.0397062453715132,
          0.03976334278318748,
          0.03994430959920161
         ],
         "yaxis": "y"
        },
        {
         "hoverlabel": {
          "namelength": 0
         },
         "hovertemplate": "<b>%{hovertext}</b><br><br>Countries and territories=South_Korea<br>casescumsum=%{x}<br>mortality=%{y}",
         "hovertext": [
          "South_Korea",
          "South_Korea",
          "South_Korea",
          "South_Korea",
          "South_Korea",
          "South_Korea",
          "South_Korea",
          "South_Korea",
          "South_Korea",
          "South_Korea",
          "South_Korea",
          "South_Korea",
          "South_Korea",
          "South_Korea",
          "South_Korea",
          "South_Korea",
          "South_Korea",
          "South_Korea",
          "South_Korea",
          "South_Korea",
          "South_Korea",
          "South_Korea"
         ],
         "legendgroup": "South_Korea",
         "line": {
          "color": "#EF553B",
          "dash": "solid"
         },
         "mode": "lines",
         "name": "South_Korea",
         "showlegend": true,
         "type": "scatter",
         "x": [
          1146,
          1595,
          2022,
          2931,
          3526,
          4212,
          4812,
          5328,
          5766,
          6284,
          6767,
          7134,
          7382,
          7513,
          7755,
          7869,
          7979,
          8086,
          8162,
          8236,
          8320,
          8413
         ],
         "xaxis": "x",
         "y": [
          0.009598603839441536,
          0.007523510971786834,
          0.006429277942631058,
          0.005458887751620608,
          0.004821327283040272,
          0.0052231718898385565,
          0.005818786367414797,
          0.006006006006006006,
          0.0060700659035726676,
          0.00668364099299809,
          0.0065021427515885915,
          0.007008690776562938,
          0.006908696830127336,
          0.007187541594569413,
          0.007736943907156673,
          0.008387342737323675,
          0.008397042235869156,
          0.008904279000742024,
          0.009188924283263906,
          0.009106362311801846,
          0.009735576923076923,
          0.010222275050517057
         ],
         "yaxis": "y"
        },
        {
         "hoverlabel": {
          "namelength": 0
         },
         "hovertemplate": "<b>%{hovertext}</b><br><br>Countries and territories=Italy<br>casescumsum=%{x}<br>mortality=%{y}",
         "hovertext": [
          "Italy",
          "Italy",
          "Italy",
          "Italy",
          "Italy",
          "Italy",
          "Italy",
          "Italy",
          "Italy",
          "Italy",
          "Italy",
          "Italy",
          "Italy",
          "Italy",
          "Italy",
          "Italy",
          "Italy",
          "Italy"
         ],
         "legendgroup": "Italy",
         "line": {
          "color": "#00cc96",
          "dash": "solid"
         },
         "mode": "lines",
         "name": "Italy",
         "showlegend": true,
         "type": "scatter",
         "x": [
          1128,
          1689,
          1835,
          2502,
          3089,
          3858,
          4636,
          5883,
          7375,
          9172,
          10149,
          12462,
          15113,
          17660,
          17750,
          23980,
          27980,
          31506
         ],
         "xaxis": "x",
         "y": [
          0.025709219858156027,
          0.020722320899940794,
          0.028337874659400544,
          0.0319744204636291,
          0.03463904176108773,
          0.0383618455158113,
          0.042493528904227786,
          0.039605643379228284,
          0.0496271186440678,
          0.05058874836458788,
          0.062173613163858506,
          0.06636173968865351,
          0.06722689075630252,
          0.07180067950169876,
          0.08118309859154929,
          0.07552126772310258,
          0.0771265189421015,
          0.07950866501618739
         ],
         "yaxis": "y"
        },
        {
         "hoverlabel": {
          "namelength": 0
         },
         "hovertemplate": "<b>%{hovertext}</b><br><br>Countries and territories=Iran<br>casescumsum=%{x}<br>mortality=%{y}",
         "hovertext": [
          "Iran",
          "Iran",
          "Iran",
          "Iran",
          "Iran",
          "Iran",
          "Iran",
          "Iran",
          "Iran",
          "Iran",
          "Iran",
          "Iran",
          "Iran",
          "Iran",
          "Iran",
          "Iran"
         ],
         "legendgroup": "Iran",
         "line": {
          "color": "#ab63fa",
          "dash": "solid"
         },
         "mode": "lines",
         "name": "Iran",
         "showlegend": true,
         "type": "scatter",
         "x": [
          1501,
          2336,
          2922,
          3513,
          4747,
          5823,
          6566,
          7161,
          8042,
          9000,
          10075,
          11364,
          12729,
          13938,
          14991,
          16169
         ],
         "xaxis": "x",
         "y": [
          0.04397068620919387,
          0.03296232876712329,
          0.03148528405201916,
          0.03045829775120979,
          0.02612176111228144,
          0.024901253649321657,
          0.02954614681693573,
          0.03309593632174277,
          0.03618502859985078,
          0.03933333333333333,
          0.04258064516129032,
          0.04523055262231609,
          0.048000628486134025,
          0.05194432486726933,
          0.056900807150957244,
          0.06110458284371328
         ],
         "yaxis": "y"
        },
        {
         "hoverlabel": {
          "namelength": 0
         },
         "hovertemplate": "<b>%{hovertext}</b><br><br>Countries and territories=France<br>casescumsum=%{x}<br>mortality=%{y}",
         "hovertext": [
          "France",
          "France",
          "France",
          "France",
          "France",
          "France",
          "France",
          "France",
          "France",
          "France"
         ],
         "legendgroup": "France",
         "line": {
          "color": "#FFA15A",
          "dash": "solid"
         },
         "mode": "lines",
         "name": "France",
         "showlegend": true,
         "type": "scatter",
         "x": [
          1126,
          1412,
          1784,
          2281,
          2876,
          3661,
          4499,
          5423,
          6633,
          7730
         ],
         "xaxis": "x",
         "y": [
          0.016873889875666074,
          0.021246458923512748,
          0.018497757847533634,
          0.02104340201665936,
          0.02121001390820584,
          0.02157880360557225,
          0.02022671704823294,
          0.023418771897473722,
          0.02231267902909694,
          0.022639068564036222
         ],
         "yaxis": "y"
        },
        {
         "hoverlabel": {
          "namelength": 0
         },
         "hovertemplate": "<b>%{hovertext}</b><br><br>Countries and territories=Spain<br>casescumsum=%{x}<br>mortality=%{y}",
         "hovertext": [
          "Spain",
          "Spain",
          "Spain",
          "Spain",
          "Spain",
          "Spain",
          "Spain",
          "Spain",
          "Spain"
         ],
         "legendgroup": "Spain",
         "line": {
          "color": "#19d3f3",
          "dash": "solid"
         },
         "mode": "lines",
         "name": "Spain",
         "showlegend": true,
         "type": "scatter",
         "x": [
          1204,
          1639,
          2140,
          3004,
          4231,
          5753,
          7753,
          9191,
          11178
         ],
         "xaxis": "x",
         "y": [
          0.023255813953488372,
          0.021354484441732765,
          0.021962616822429906,
          0.02796271637816245,
          0.028598440085086267,
          0.02363984008343473,
          0.03714691087321037,
          0.03361984550103362,
          0.043925568080157455
         ],
         "yaxis": "y"
        },
        {
         "hoverlabel": {
          "namelength": 0
         },
         "hovertemplate": "<b>%{hovertext}</b><br><br>Countries and territories=Germany<br>casescumsum=%{x}<br>mortality=%{y}",
         "hovertext": [
          "Germany",
          "Germany",
          "Germany",
          "Germany",
          "Germany",
          "Germany",
          "Germany",
          "Germany",
          "Germany"
         ],
         "legendgroup": "Germany",
         "line": {
          "color": "#FF6692",
          "dash": "solid"
         },
         "mode": "lines",
         "name": "Germany",
         "showlegend": true,
         "type": "scatter",
         "x": [
          1139,
          1296,
          1567,
          2369,
          3062,
          3795,
          4838,
          6012,
          7156
         ],
         "xaxis": "x",
         "y": [
          0.001755926251097454,
          0.0015432098765432098,
          0.0019144862795149968,
          0.002110595187842972,
          0.0016329196603527107,
          0.002108036890645586,
          0.0024803637866887144,
          0.002162341982701264,
          0.0018166573504751259
         ],
         "yaxis": "y"
        },
        {
         "hoverlabel": {
          "namelength": 0
         },
         "hovertemplate": "<b>%{hovertext}</b><br><br>Countries and territories=United_States_of_America<br>casescumsum=%{x}<br>mortality=%{y}",
         "hovertext": [
          "United_States_of_America",
          "United_States_of_America",
          "United_States_of_America",
          "United_States_of_America",
          "United_States_of_America",
          "United_States_of_America",
          "United_States_of_America",
          "United_States_of_America"
         ],
         "legendgroup": "United_States_of_America",
         "line": {
          "color": "#B6E880",
          "dash": "solid"
         },
         "mode": "lines",
         "name": "United_States_of_America",
         "showlegend": true,
         "type": "scatter",
         "x": [
          1025,
          1312,
          1663,
          2174,
          2951,
          3774,
          4661,
          6427
         ],
         "xaxis": "x",
         "y": [
          0.027317073170731707,
          0.022865853658536585,
          0.024052916416115455,
          0.021619135234590615,
          0.0193154862758387,
          0.018282988871224166,
          0.018236429950654366,
          0.016804107670763964
         ],
         "yaxis": "y"
        },
        {
         "hoverlabel": {
          "namelength": 0
         },
         "hovertemplate": "<b>%{hovertext}</b><br><br>Countries and territories=Switzerland<br>casescumsum=%{x}<br>mortality=%{y}",
         "hovertext": [
          "Switzerland",
          "Switzerland",
          "Switzerland",
          "Switzerland",
          "Switzerland"
         ],
         "legendgroup": "Switzerland",
         "line": {
          "color": "#FF97FF",
          "dash": "solid"
         },
         "mode": "lines",
         "name": "Switzerland",
         "showlegend": true,
         "type": "scatter",
         "x": [
          1121,
          1359,
          2200,
          2200,
          2650
         ],
         "xaxis": "x",
         "y": [
          0.006244424620874219,
          0.008094186902133923,
          0.005909090909090909,
          0.006363636363636364,
          0.007169811320754717
         ],
         "yaxis": "y"
        },
        {
         "hoverlabel": {
          "namelength": 0
         },
         "hovertemplate": "<b>%{hovertext}</b><br><br>Countries and territories=United_Kingdom<br>casescumsum=%{x}<br>mortality=%{y}",
         "hovertext": [
          "United_Kingdom",
          "United_Kingdom",
          "United_Kingdom",
          "United_Kingdom"
         ],
         "legendgroup": "United_Kingdom",
         "line": {
          "color": "#FECB52",
          "dash": "solid"
         },
         "mode": "lines",
         "name": "United_Kingdom",
         "showlegend": true,
         "type": "scatter",
         "x": [
          1140,
          1391,
          1543,
          1950
         ],
         "xaxis": "x",
         "y": [
          0.018421052631578946,
          0.02516175413371675,
          0.0356448476992871,
          0.03076923076923077
         ],
         "yaxis": "y"
        },
        {
         "hoverlabel": {
          "namelength": 0
         },
         "hovertemplate": "<b>%{hovertext}</b><br><br>Countries and territories=Sweden<br>casescumsum=%{x}<br>mortality=%{y}",
         "hovertext": [
          "Sweden",
          "Sweden",
          "Sweden"
         ],
         "legendgroup": "Sweden",
         "line": {
          "color": "#636efa",
          "dash": "solid"
         },
         "mode": "lines",
         "name": "Sweden",
         "showlegend": true,
         "type": "scatter",
         "x": [
          1032,
          1121,
          1167
         ],
         "xaxis": "x",
         "y": [
          0.0029069767441860465,
          0.006244424620874219,
          0.006855184233076264
         ],
         "yaxis": "y"
        },
        {
         "hoverlabel": {
          "namelength": 0
         },
         "hovertemplate": "<b>%{hovertext}</b><br><br>Countries and territories=Netherlands<br>casescumsum=%{x}<br>mortality=%{y}",
         "hovertext": [
          "Netherlands",
          "Netherlands",
          "Netherlands"
         ],
         "legendgroup": "Netherlands",
         "line": {
          "color": "#EF553B",
          "dash": "solid"
         },
         "mode": "lines",
         "name": "Netherlands",
         "showlegend": true,
         "type": "scatter",
         "x": [
          1135,
          1413,
          1705
         ],
         "xaxis": "x",
         "y": [
          0.01762114537444934,
          0.016985138004246284,
          0.01407624633431085
         ],
         "yaxis": "y"
        },
        {
         "hoverlabel": {
          "namelength": 0
         },
         "hovertemplate": "<b>%{hovertext}</b><br><br>Countries and territories=Norway<br>casescumsum=%{x}<br>mortality=%{y}",
         "hovertext": [
          "Norway",
          "Norway",
          "Norway"
         ],
         "legendgroup": "Norway",
         "line": {
          "color": "#00cc96",
          "dash": "solid"
         },
         "mode": "lines",
         "name": "Norway",
         "showlegend": true,
         "type": "scatter",
         "x": [
          1077,
          1169,
          1308
         ],
         "xaxis": "x",
         "y": [
          0.0009285051067780873,
          0.0025662959794696323,
          0.0022935779816513763
         ],
         "yaxis": "y"
        },
        {
         "hoverlabel": {
          "namelength": 0
         },
         "hovertemplate": "<b>%{hovertext}</b><br><br>Countries and territories=Austria<br>casescumsum=%{x}<br>mortality=%{y}",
         "hovertext": [
          "Austria",
          "Austria"
         ],
         "legendgroup": "Austria",
         "line": {
          "color": "#ab63fa",
          "dash": "solid"
         },
         "mode": "lines",
         "name": "Austria",
         "showlegend": true,
         "type": "scatter",
         "x": [
          1016,
          1332
         ],
         "xaxis": "x",
         "y": [
          0.002952755905511811,
          0.0022522522522522522
         ],
         "yaxis": "y"
        },
        {
         "hoverlabel": {
          "namelength": 0
         },
         "hovertemplate": "<b>%{hovertext}</b><br><br>Countries and territories=Belgium<br>casescumsum=%{x}<br>mortality=%{y}",
         "hovertext": [
          "Belgium",
          "Belgium"
         ],
         "legendgroup": "Belgium",
         "line": {
          "color": "#FFA15A",
          "dash": "solid"
         },
         "mode": "lines",
         "name": "Belgium",
         "showlegend": true,
         "type": "scatter",
         "x": [
          1085,
          1243
         ],
         "xaxis": "x",
         "y": [
          0.004608294930875576,
          0.004022526146419952
         ],
         "yaxis": "y"
        },
        {
         "hoverlabel": {
          "namelength": 0
         },
         "hovertemplate": "<b>%{hovertext}</b><br><br>Countries and territories=Denmark<br>casescumsum=%{x}<br>mortality=%{y}",
         "hovertext": [
          "Denmark"
         ],
         "legendgroup": "Denmark",
         "line": {
          "color": "#19d3f3",
          "dash": "solid"
         },
         "mode": "lines",
         "name": "Denmark",
         "showlegend": true,
         "type": "scatter",
         "x": [
          1024
         ],
         "xaxis": "x",
         "y": [
          0.00390625
         ],
         "yaxis": "y"
        }
       ],
       "layout": {
        "autosize": true,
        "legend": {
         "title": {
          "text": "Countries and territories"
         },
         "tracegroupgap": 0
        },
        "margin": {
         "t": 60
        },
        "template": {
         "data": {
          "bar": [
           {
            "error_x": {
             "color": "#2a3f5f"
            },
            "error_y": {
             "color": "#2a3f5f"
            },
            "marker": {
             "line": {
              "color": "#E5ECF6",
              "width": 0.5
             }
            },
            "type": "bar"
           }
          ],
          "barpolar": [
           {
            "marker": {
             "line": {
              "color": "#E5ECF6",
              "width": 0.5
             }
            },
            "type": "barpolar"
           }
          ],
          "carpet": [
           {
            "aaxis": {
             "endlinecolor": "#2a3f5f",
             "gridcolor": "white",
             "linecolor": "white",
             "minorgridcolor": "white",
             "startlinecolor": "#2a3f5f"
            },
            "baxis": {
             "endlinecolor": "#2a3f5f",
             "gridcolor": "white",
             "linecolor": "white",
             "minorgridcolor": "white",
             "startlinecolor": "#2a3f5f"
            },
            "type": "carpet"
           }
          ],
          "choropleth": [
           {
            "colorbar": {
             "outlinewidth": 0,
             "ticks": ""
            },
            "type": "choropleth"
           }
          ],
          "contour": [
           {
            "colorbar": {
             "outlinewidth": 0,
             "ticks": ""
            },
            "colorscale": [
             [
              0,
              "#0d0887"
             ],
             [
              0.1111111111111111,
              "#46039f"
             ],
             [
              0.2222222222222222,
              "#7201a8"
             ],
             [
              0.3333333333333333,
              "#9c179e"
             ],
             [
              0.4444444444444444,
              "#bd3786"
             ],
             [
              0.5555555555555556,
              "#d8576b"
             ],
             [
              0.6666666666666666,
              "#ed7953"
             ],
             [
              0.7777777777777778,
              "#fb9f3a"
             ],
             [
              0.8888888888888888,
              "#fdca26"
             ],
             [
              1,
              "#f0f921"
             ]
            ],
            "type": "contour"
           }
          ],
          "contourcarpet": [
           {
            "colorbar": {
             "outlinewidth": 0,
             "ticks": ""
            },
            "type": "contourcarpet"
           }
          ],
          "heatmap": [
           {
            "colorbar": {
             "outlinewidth": 0,
             "ticks": ""
            },
            "colorscale": [
             [
              0,
              "#0d0887"
             ],
             [
              0.1111111111111111,
              "#46039f"
             ],
             [
              0.2222222222222222,
              "#7201a8"
             ],
             [
              0.3333333333333333,
              "#9c179e"
             ],
             [
              0.4444444444444444,
              "#bd3786"
             ],
             [
              0.5555555555555556,
              "#d8576b"
             ],
             [
              0.6666666666666666,
              "#ed7953"
             ],
             [
              0.7777777777777778,
              "#fb9f3a"
             ],
             [
              0.8888888888888888,
              "#fdca26"
             ],
             [
              1,
              "#f0f921"
             ]
            ],
            "type": "heatmap"
           }
          ],
          "heatmapgl": [
           {
            "colorbar": {
             "outlinewidth": 0,
             "ticks": ""
            },
            "colorscale": [
             [
              0,
              "#0d0887"
             ],
             [
              0.1111111111111111,
              "#46039f"
             ],
             [
              0.2222222222222222,
              "#7201a8"
             ],
             [
              0.3333333333333333,
              "#9c179e"
             ],
             [
              0.4444444444444444,
              "#bd3786"
             ],
             [
              0.5555555555555556,
              "#d8576b"
             ],
             [
              0.6666666666666666,
              "#ed7953"
             ],
             [
              0.7777777777777778,
              "#fb9f3a"
             ],
             [
              0.8888888888888888,
              "#fdca26"
             ],
             [
              1,
              "#f0f921"
             ]
            ],
            "type": "heatmapgl"
           }
          ],
          "histogram": [
           {
            "marker": {
             "colorbar": {
              "outlinewidth": 0,
              "ticks": ""
             }
            },
            "type": "histogram"
           }
          ],
          "histogram2d": [
           {
            "colorbar": {
             "outlinewidth": 0,
             "ticks": ""
            },
            "colorscale": [
             [
              0,
              "#0d0887"
             ],
             [
              0.1111111111111111,
              "#46039f"
             ],
             [
              0.2222222222222222,
              "#7201a8"
             ],
             [
              0.3333333333333333,
              "#9c179e"
             ],
             [
              0.4444444444444444,
              "#bd3786"
             ],
             [
              0.5555555555555556,
              "#d8576b"
             ],
             [
              0.6666666666666666,
              "#ed7953"
             ],
             [
              0.7777777777777778,
              "#fb9f3a"
             ],
             [
              0.8888888888888888,
              "#fdca26"
             ],
             [
              1,
              "#f0f921"
             ]
            ],
            "type": "histogram2d"
           }
          ],
          "histogram2dcontour": [
           {
            "colorbar": {
             "outlinewidth": 0,
             "ticks": ""
            },
            "colorscale": [
             [
              0,
              "#0d0887"
             ],
             [
              0.1111111111111111,
              "#46039f"
             ],
             [
              0.2222222222222222,
              "#7201a8"
             ],
             [
              0.3333333333333333,
              "#9c179e"
             ],
             [
              0.4444444444444444,
              "#bd3786"
             ],
             [
              0.5555555555555556,
              "#d8576b"
             ],
             [
              0.6666666666666666,
              "#ed7953"
             ],
             [
              0.7777777777777778,
              "#fb9f3a"
             ],
             [
              0.8888888888888888,
              "#fdca26"
             ],
             [
              1,
              "#f0f921"
             ]
            ],
            "type": "histogram2dcontour"
           }
          ],
          "mesh3d": [
           {
            "colorbar": {
             "outlinewidth": 0,
             "ticks": ""
            },
            "type": "mesh3d"
           }
          ],
          "parcoords": [
           {
            "line": {
             "colorbar": {
              "outlinewidth": 0,
              "ticks": ""
             }
            },
            "type": "parcoords"
           }
          ],
          "pie": [
           {
            "automargin": true,
            "type": "pie"
           }
          ],
          "scatter": [
           {
            "marker": {
             "colorbar": {
              "outlinewidth": 0,
              "ticks": ""
             }
            },
            "type": "scatter"
           }
          ],
          "scatter3d": [
           {
            "line": {
             "colorbar": {
              "outlinewidth": 0,
              "ticks": ""
             }
            },
            "marker": {
             "colorbar": {
              "outlinewidth": 0,
              "ticks": ""
             }
            },
            "type": "scatter3d"
           }
          ],
          "scattercarpet": [
           {
            "marker": {
             "colorbar": {
              "outlinewidth": 0,
              "ticks": ""
             }
            },
            "type": "scattercarpet"
           }
          ],
          "scattergeo": [
           {
            "marker": {
             "colorbar": {
              "outlinewidth": 0,
              "ticks": ""
             }
            },
            "type": "scattergeo"
           }
          ],
          "scattergl": [
           {
            "marker": {
             "colorbar": {
              "outlinewidth": 0,
              "ticks": ""
             }
            },
            "type": "scattergl"
           }
          ],
          "scattermapbox": [
           {
            "marker": {
             "colorbar": {
              "outlinewidth": 0,
              "ticks": ""
             }
            },
            "type": "scattermapbox"
           }
          ],
          "scatterpolar": [
           {
            "marker": {
             "colorbar": {
              "outlinewidth": 0,
              "ticks": ""
             }
            },
            "type": "scatterpolar"
           }
          ],
          "scatterpolargl": [
           {
            "marker": {
             "colorbar": {
              "outlinewidth": 0,
              "ticks": ""
             }
            },
            "type": "scatterpolargl"
           }
          ],
          "scatterternary": [
           {
            "marker": {
             "colorbar": {
              "outlinewidth": 0,
              "ticks": ""
             }
            },
            "type": "scatterternary"
           }
          ],
          "surface": [
           {
            "colorbar": {
             "outlinewidth": 0,
             "ticks": ""
            },
            "colorscale": [
             [
              0,
              "#0d0887"
             ],
             [
              0.1111111111111111,
              "#46039f"
             ],
             [
              0.2222222222222222,
              "#7201a8"
             ],
             [
              0.3333333333333333,
              "#9c179e"
             ],
             [
              0.4444444444444444,
              "#bd3786"
             ],
             [
              0.5555555555555556,
              "#d8576b"
             ],
             [
              0.6666666666666666,
              "#ed7953"
             ],
             [
              0.7777777777777778,
              "#fb9f3a"
             ],
             [
              0.8888888888888888,
              "#fdca26"
             ],
             [
              1,
              "#f0f921"
             ]
            ],
            "type": "surface"
           }
          ],
          "table": [
           {
            "cells": {
             "fill": {
              "color": "#EBF0F8"
             },
             "line": {
              "color": "white"
             }
            },
            "header": {
             "fill": {
              "color": "#C8D4E3"
             },
             "line": {
              "color": "white"
             }
            },
            "type": "table"
           }
          ]
         },
         "layout": {
          "annotationdefaults": {
           "arrowcolor": "#2a3f5f",
           "arrowhead": 0,
           "arrowwidth": 1
          },
          "coloraxis": {
           "colorbar": {
            "outlinewidth": 0,
            "ticks": ""
           }
          },
          "colorscale": {
           "diverging": [
            [
             0,
             "#8e0152"
            ],
            [
             0.1,
             "#c51b7d"
            ],
            [
             0.2,
             "#de77ae"
            ],
            [
             0.3,
             "#f1b6da"
            ],
            [
             0.4,
             "#fde0ef"
            ],
            [
             0.5,
             "#f7f7f7"
            ],
            [
             0.6,
             "#e6f5d0"
            ],
            [
             0.7,
             "#b8e186"
            ],
            [
             0.8,
             "#7fbc41"
            ],
            [
             0.9,
             "#4d9221"
            ],
            [
             1,
             "#276419"
            ]
           ],
           "sequential": [
            [
             0,
             "#0d0887"
            ],
            [
             0.1111111111111111,
             "#46039f"
            ],
            [
             0.2222222222222222,
             "#7201a8"
            ],
            [
             0.3333333333333333,
             "#9c179e"
            ],
            [
             0.4444444444444444,
             "#bd3786"
            ],
            [
             0.5555555555555556,
             "#d8576b"
            ],
            [
             0.6666666666666666,
             "#ed7953"
            ],
            [
             0.7777777777777778,
             "#fb9f3a"
            ],
            [
             0.8888888888888888,
             "#fdca26"
            ],
            [
             1,
             "#f0f921"
            ]
           ],
           "sequentialminus": [
            [
             0,
             "#0d0887"
            ],
            [
             0.1111111111111111,
             "#46039f"
            ],
            [
             0.2222222222222222,
             "#7201a8"
            ],
            [
             0.3333333333333333,
             "#9c179e"
            ],
            [
             0.4444444444444444,
             "#bd3786"
            ],
            [
             0.5555555555555556,
             "#d8576b"
            ],
            [
             0.6666666666666666,
             "#ed7953"
            ],
            [
             0.7777777777777778,
             "#fb9f3a"
            ],
            [
             0.8888888888888888,
             "#fdca26"
            ],
            [
             1,
             "#f0f921"
            ]
           ]
          },
          "colorway": [
           "#636efa",
           "#EF553B",
           "#00cc96",
           "#ab63fa",
           "#FFA15A",
           "#19d3f3",
           "#FF6692",
           "#B6E880",
           "#FF97FF",
           "#FECB52"
          ],
          "font": {
           "color": "#2a3f5f"
          },
          "geo": {
           "bgcolor": "white",
           "lakecolor": "white",
           "landcolor": "#E5ECF6",
           "showlakes": true,
           "showland": true,
           "subunitcolor": "white"
          },
          "hoverlabel": {
           "align": "left"
          },
          "hovermode": "closest",
          "mapbox": {
           "style": "light"
          },
          "paper_bgcolor": "white",
          "plot_bgcolor": "#E5ECF6",
          "polar": {
           "angularaxis": {
            "gridcolor": "white",
            "linecolor": "white",
            "ticks": ""
           },
           "bgcolor": "#E5ECF6",
           "radialaxis": {
            "gridcolor": "white",
            "linecolor": "white",
            "ticks": ""
           }
          },
          "scene": {
           "xaxis": {
            "backgroundcolor": "#E5ECF6",
            "gridcolor": "white",
            "gridwidth": 2,
            "linecolor": "white",
            "showbackground": true,
            "ticks": "",
            "zerolinecolor": "white"
           },
           "yaxis": {
            "backgroundcolor": "#E5ECF6",
            "gridcolor": "white",
            "gridwidth": 2,
            "linecolor": "white",
            "showbackground": true,
            "ticks": "",
            "zerolinecolor": "white"
           },
           "zaxis": {
            "backgroundcolor": "#E5ECF6",
            "gridcolor": "white",
            "gridwidth": 2,
            "linecolor": "white",
            "showbackground": true,
            "ticks": "",
            "zerolinecolor": "white"
           }
          },
          "shapedefaults": {
           "line": {
            "color": "#2a3f5f"
           }
          },
          "ternary": {
           "aaxis": {
            "gridcolor": "white",
            "linecolor": "white",
            "ticks": ""
           },
           "baxis": {
            "gridcolor": "white",
            "linecolor": "white",
            "ticks": ""
           },
           "bgcolor": "#E5ECF6",
           "caxis": {
            "gridcolor": "white",
            "linecolor": "white",
            "ticks": ""
           }
          },
          "title": {
           "x": 0.05
          },
          "xaxis": {
           "automargin": true,
           "gridcolor": "white",
           "linecolor": "white",
           "ticks": "",
           "title": {
            "standoff": 15
           },
           "zerolinecolor": "white",
           "zerolinewidth": 2
          },
          "yaxis": {
           "automargin": true,
           "gridcolor": "white",
           "linecolor": "white",
           "ticks": "",
           "title": {
            "standoff": 15
           },
           "zerolinecolor": "white",
           "zerolinewidth": 2
          }
         }
        },
        "xaxis": {
         "anchor": "y",
         "autorange": true,
         "domain": [
          0,
          1
         ],
         "range": [
          3.0068937079479,
          4.909358091335266
         ],
         "title": {
          "text": "Cumulative number of cases"
         },
         "type": "log"
        },
        "yaxis": {
         "anchor": "x",
         "autorange": true,
         "domain": [
          0,
          1
         ],
         "range": [
          -3.140086888115807,
          -0.982663191759298
         ],
         "title": {
          "text": "Mortality"
         },
         "type": "log"
        }
       }
      },
      "image/png": "[encoded data removed]",
      "text/html": [
       "<div>\n",
       "        \n",
       "        \n",
       "            <div id=\"7644c01c-b5a9-45bf-a568-fe96f09ec9c4\" class=\"plotly-graph-div\" style=\"height:525px; width:100%;\"></div>\n",
       "            <script type=\"text/javascript\">\n",
       "                require([\"plotly\"], function(Plotly) {\n",
       "                    window.PLOTLYENV=window.PLOTLYENV || {};\n",
       "                    \n",
       "                if (document.getElementById(\"7644c01c-b5a9-45bf-a568-fe96f09ec9c4\")) {\n",
       "                    Plotly.newPlot(\n",
       "                        '7644c01c-b5a9-45bf-a568-fe96f09ec9c4',\n",
       "                        [{\"hoverlabel\": {\"namelength\": 0}, \"hovertemplate\": \"<b>%{hovertext}</b><br><br>Countries and territories=China<br>casescumsum=%{x}<br>mortality=%{y}\", \"hovertext\": [\"China\", \"China\", \"China\", \"China\", \"China\", \"China\", \"China\", \"China\", \"China\", \"China\", \"China\", \"China\", \"China\", \"China\", \"China\", \"China\", \"China\", \"China\", \"China\", \"China\", \"China\", \"China\", \"China\", \"China\", \"China\", \"China\", \"China\", \"China\", \"China\", \"China\", \"China\", \"China\", \"China\", \"China\", \"China\", \"China\", \"China\", \"China\", \"China\", \"China\", \"China\", \"China\", \"China\", \"China\", \"China\", \"China\", \"China\", \"China\", \"China\", \"China\", \"China\", \"China\", \"China\", \"China\"], \"legendgroup\": \"China\", \"line\": {\"color\": \"#636efa\", \"dash\": \"solid\"}, \"mode\": \"lines\", \"name\": \"China\", \"showlegend\": true, \"type\": \"scatter\", \"x\": [1323, 1988, 2775, 4528, 5994, 7734, 9714, 11809, 14399, 17211, 20448, 24320, 28047, 31207, 34625, 37232, 40206, 42696, 44724, 59865, 64021, 66559, 68566, 70618, 72508, 74258, 74652, 75543, 76369, 77016, 77234, 77749, 78159, 78598, 78927, 79355, 79929, 80134, 80261, 80380, 80497, 80667, 80768, 80814, 80859, 80879, 80908, 80932, 80954, 80973, 80995, 81020, 81130, 81163], \"xaxis\": \"x\", \"y\": [0.030990173847316706, 0.028169014084507043, 0.02918918918918919, 0.023409893992932862, 0.022022022022022022, 0.021980863718644945, 0.021927115503397158, 0.021932424422050976, 0.021112577262309883, 0.02097495787577712, 0.020833333333333332, 0.020230263157894737, 0.02010910257781581, 0.020412087031755694, 0.02088086642599278, 0.021809196390201978, 0.022608565885688704, 0.023819561551433388, 0.024908326625525445, 0.022851415685291906, 0.02157104700020306, 0.02289697862047206, 0.02429775690575504, 0.025078591860432185, 0.025776466045126054, 0.027040857550701607, 0.028398435406954938, 0.029625511298201023, 0.030732365226728123, 0.031746650046743534, 0.03359919206567056, 0.034276968192516945, 0.034762471372458706, 0.03493727575765287, 0.03534912007297883, 0.03575074034402369, 0.03593188955197738, 0.036364090149000425, 0.03670524912473057, 0.03711122169693954, 0.0374423891573599, 0.03773538125875513, 0.03803486529318542, 0.03834731605909867, 0.03861042060871393, 0.038811063440448074, 0.03906906609976764, 0.039193396925814264, 0.03926921461570768, 0.03944524718115915, 0.03954565096610902, 0.0397062453715132, 0.03976334278318748, 0.03994430959920161], \"yaxis\": \"y\"}, {\"hoverlabel\": {\"namelength\": 0}, \"hovertemplate\": \"<b>%{hovertext}</b><br><br>Countries and territories=South_Korea<br>casescumsum=%{x}<br>mortality=%{y}\", \"hovertext\": [\"South_Korea\", \"South_Korea\", \"South_Korea\", \"South_Korea\", \"South_Korea\", \"South_Korea\", \"South_Korea\", \"South_Korea\", \"South_Korea\", \"South_Korea\", \"South_Korea\", \"South_Korea\", \"South_Korea\", \"South_Korea\", \"South_Korea\", \"South_Korea\", \"South_Korea\", \"South_Korea\", \"South_Korea\", \"South_Korea\", \"South_Korea\", \"South_Korea\"], \"legendgroup\": \"South_Korea\", \"line\": {\"color\": \"#EF553B\", \"dash\": \"solid\"}, \"mode\": \"lines\", \"name\": \"South_Korea\", \"showlegend\": true, \"type\": \"scatter\", \"x\": [1146, 1595, 2022, 2931, 3526, 4212, 4812, 5328, 5766, 6284, 6767, 7134, 7382, 7513, 7755, 7869, 7979, 8086, 8162, 8236, 8320, 8413], \"xaxis\": \"x\", \"y\": [0.009598603839441536, 0.007523510971786834, 0.006429277942631058, 0.005458887751620608, 0.004821327283040272, 0.0052231718898385565, 0.005818786367414797, 0.006006006006006006, 0.0060700659035726676, 0.00668364099299809, 0.0065021427515885915, 0.007008690776562938, 0.006908696830127336, 0.007187541594569413, 0.007736943907156673, 0.008387342737323675, 0.008397042235869156, 0.008904279000742024, 0.009188924283263906, 0.009106362311801846, 0.009735576923076923, 0.010222275050517057], \"yaxis\": \"y\"}, {\"hoverlabel\": {\"namelength\": 0}, \"hovertemplate\": \"<b>%{hovertext}</b><br><br>Countries and territories=Italy<br>casescumsum=%{x}<br>mortality=%{y}\", \"hovertext\": [\"Italy\", \"Italy\", \"Italy\", \"Italy\", \"Italy\", \"Italy\", \"Italy\", \"Italy\", \"Italy\", \"Italy\", \"Italy\", \"Italy\", \"Italy\", \"Italy\", \"Italy\", \"Italy\", \"Italy\", \"Italy\"], \"legendgroup\": \"Italy\", \"line\": {\"color\": \"#00cc96\", \"dash\": \"solid\"}, \"mode\": \"lines\", \"name\": \"Italy\", \"showlegend\": true, \"type\": \"scatter\", \"x\": [1128, 1689, 1835, 2502, 3089, 3858, 4636, 5883, 7375, 9172, 10149, 12462, 15113, 17660, 17750, 23980, 27980, 31506], \"xaxis\": \"x\", \"y\": [0.025709219858156027, 0.020722320899940794, 0.028337874659400544, 0.0319744204636291, 0.03463904176108773, 0.0383618455158113, 0.042493528904227786, 0.039605643379228284, 0.0496271186440678, 0.05058874836458788, 0.062173613163858506, 0.06636173968865351, 0.06722689075630252, 0.07180067950169876, 0.08118309859154929, 0.07552126772310258, 0.0771265189421015, 0.07950866501618739], \"yaxis\": \"y\"}, {\"hoverlabel\": {\"namelength\": 0}, \"hovertemplate\": \"<b>%{hovertext}</b><br><br>Countries and territories=Iran<br>casescumsum=%{x}<br>mortality=%{y}\", \"hovertext\": [\"Iran\", \"Iran\", \"Iran\", \"Iran\", \"Iran\", \"Iran\", \"Iran\", \"Iran\", \"Iran\", \"Iran\", \"Iran\", \"Iran\", \"Iran\", \"Iran\", \"Iran\", \"Iran\"], \"legendgroup\": \"Iran\", \"line\": {\"color\": \"#ab63fa\", \"dash\": \"solid\"}, \"mode\": \"lines\", \"name\": \"Iran\", \"showlegend\": true, \"type\": \"scatter\", \"x\": [1501, 2336, 2922, 3513, 4747, 5823, 6566, 7161, 8042, 9000, 10075, 11364, 12729, 13938, 14991, 16169], \"xaxis\": \"x\", \"y\": [0.04397068620919387, 0.03296232876712329, 0.03148528405201916, 0.03045829775120979, 0.02612176111228144, 0.024901253649321657, 0.02954614681693573, 0.03309593632174277, 0.03618502859985078, 0.03933333333333333, 0.04258064516129032, 0.04523055262231609, 0.048000628486134025, 0.05194432486726933, 0.056900807150957244, 0.06110458284371328], \"yaxis\": \"y\"}, {\"hoverlabel\": {\"namelength\": 0}, \"hovertemplate\": \"<b>%{hovertext}</b><br><br>Countries and territories=France<br>casescumsum=%{x}<br>mortality=%{y}\", \"hovertext\": [\"France\", \"France\", \"France\", \"France\", \"France\", \"France\", \"France\", \"France\", \"France\", \"France\"], \"legendgroup\": \"France\", \"line\": {\"color\": \"#FFA15A\", \"dash\": \"solid\"}, \"mode\": \"lines\", \"name\": \"France\", \"showlegend\": true, \"type\": \"scatter\", \"x\": [1126, 1412, 1784, 2281, 2876, 3661, 4499, 5423, 6633, 7730], \"xaxis\": \"x\", \"y\": [0.016873889875666074, 0.021246458923512748, 0.018497757847533634, 0.02104340201665936, 0.02121001390820584, 0.02157880360557225, 0.02022671704823294, 0.023418771897473722, 0.02231267902909694, 0.022639068564036222], \"yaxis\": \"y\"}, {\"hoverlabel\": {\"namelength\": 0}, \"hovertemplate\": \"<b>%{hovertext}</b><br><br>Countries and territories=Spain<br>casescumsum=%{x}<br>mortality=%{y}\", \"hovertext\": [\"Spain\", \"Spain\", \"Spain\", \"Spain\", \"Spain\", \"Spain\", \"Spain\", \"Spain\", \"Spain\"], \"legendgroup\": \"Spain\", \"line\": {\"color\": \"#19d3f3\", \"dash\": \"solid\"}, \"mode\": \"lines\", \"name\": \"Spain\", \"showlegend\": true, \"type\": \"scatter\", \"x\": [1204, 1639, 2140, 3004, 4231, 5753, 7753, 9191, 11178], \"xaxis\": \"x\", \"y\": [0.023255813953488372, 0.021354484441732765, 0.021962616822429906, 0.02796271637816245, 0.028598440085086267, 0.02363984008343473, 0.03714691087321037, 0.03361984550103362, 0.043925568080157455], \"yaxis\": \"y\"}, {\"hoverlabel\": {\"namelength\": 0}, \"hovertemplate\": \"<b>%{hovertext}</b><br><br>Countries and territories=Germany<br>casescumsum=%{x}<br>mortality=%{y}\", \"hovertext\": [\"Germany\", \"Germany\", \"Germany\", \"Germany\", \"Germany\", \"Germany\", \"Germany\", \"Germany\", \"Germany\"], \"legendgroup\": \"Germany\", \"line\": {\"color\": \"#FF6692\", \"dash\": \"solid\"}, \"mode\": \"lines\", \"name\": \"Germany\", \"showlegend\": true, \"type\": \"scatter\", \"x\": [1139, 1296, 1567, 2369, 3062, 3795, 4838, 6012, 7156], \"xaxis\": \"x\", \"y\": [0.001755926251097454, 0.0015432098765432098, 0.0019144862795149968, 0.002110595187842972, 0.0016329196603527107, 0.002108036890645586, 0.0024803637866887144, 0.002162341982701264, 0.0018166573504751259], \"yaxis\": \"y\"}, {\"hoverlabel\": {\"namelength\": 0}, \"hovertemplate\": \"<b>%{hovertext}</b><br><br>Countries and territories=United_States_of_America<br>casescumsum=%{x}<br>mortality=%{y}\", \"hovertext\": [\"United_States_of_America\", \"United_States_of_America\", \"United_States_of_America\", \"United_States_of_America\", \"United_States_of_America\", \"United_States_of_America\", \"United_States_of_America\", \"United_States_of_America\"], \"legendgroup\": \"United_States_of_America\", \"line\": {\"color\": \"#B6E880\", \"dash\": \"solid\"}, \"mode\": \"lines\", \"name\": \"United_States_of_America\", \"showlegend\": true, \"type\": \"scatter\", \"x\": [1025, 1312, 1663, 2174, 2951, 3774, 4661, 6427], \"xaxis\": \"x\", \"y\": [0.027317073170731707, 0.022865853658536585, 0.024052916416115455, 0.021619135234590615, 0.0193154862758387, 0.018282988871224166, 0.018236429950654366, 0.016804107670763964], \"yaxis\": \"y\"}, {\"hoverlabel\": {\"namelength\": 0}, \"hovertemplate\": \"<b>%{hovertext}</b><br><br>Countries and territories=Switzerland<br>casescumsum=%{x}<br>mortality=%{y}\", \"hovertext\": [\"Switzerland\", \"Switzerland\", \"Switzerland\", \"Switzerland\", \"Switzerland\"], \"legendgroup\": \"Switzerland\", \"line\": {\"color\": \"#FF97FF\", \"dash\": \"solid\"}, \"mode\": \"lines\", \"name\": \"Switzerland\", \"showlegend\": true, \"type\": \"scatter\", \"x\": [1121, 1359, 2200, 2200, 2650], \"xaxis\": \"x\", \"y\": [0.006244424620874219, 0.008094186902133923, 0.005909090909090909, 0.006363636363636364, 0.007169811320754717], \"yaxis\": \"y\"}, {\"hoverlabel\": {\"namelength\": 0}, \"hovertemplate\": \"<b>%{hovertext}</b><br><br>Countries and territories=United_Kingdom<br>casescumsum=%{x}<br>mortality=%{y}\", \"hovertext\": [\"United_Kingdom\", \"United_Kingdom\", \"United_Kingdom\", \"United_Kingdom\"], \"legendgroup\": \"United_Kingdom\", \"line\": {\"color\": \"#FECB52\", \"dash\": \"solid\"}, \"mode\": \"lines\", \"name\": \"United_Kingdom\", \"showlegend\": true, \"type\": \"scatter\", \"x\": [1140, 1391, 1543, 1950], \"xaxis\": \"x\", \"y\": [0.018421052631578946, 0.02516175413371675, 0.0356448476992871, 0.03076923076923077], \"yaxis\": \"y\"}, {\"hoverlabel\": {\"namelength\": 0}, \"hovertemplate\": \"<b>%{hovertext}</b><br><br>Countries and territories=Sweden<br>casescumsum=%{x}<br>mortality=%{y}\", \"hovertext\": [\"Sweden\", \"Sweden\", \"Sweden\"], \"legendgroup\": \"Sweden\", \"line\": {\"color\": \"#636efa\", \"dash\": \"solid\"}, \"mode\": \"lines\", \"name\": \"Sweden\", \"showlegend\": true, \"type\": \"scatter\", \"x\": [1032, 1121, 1167], \"xaxis\": \"x\", \"y\": [0.0029069767441860465, 0.006244424620874219, 0.006855184233076264], \"yaxis\": \"y\"}, {\"hoverlabel\": {\"namelength\": 0}, \"hovertemplate\": \"<b>%{hovertext}</b><br><br>Countries and territories=Netherlands<br>casescumsum=%{x}<br>mortality=%{y}\", \"hovertext\": [\"Netherlands\", \"Netherlands\", \"Netherlands\"], \"legendgroup\": \"Netherlands\", \"line\": {\"color\": \"#EF553B\", \"dash\": \"solid\"}, \"mode\": \"lines\", \"name\": \"Netherlands\", \"showlegend\": true, \"type\": \"scatter\", \"x\": [1135, 1413, 1705], \"xaxis\": \"x\", \"y\": [0.01762114537444934, 0.016985138004246284, 0.01407624633431085], \"yaxis\": \"y\"}, {\"hoverlabel\": {\"namelength\": 0}, \"hovertemplate\": \"<b>%{hovertext}</b><br><br>Countries and territories=Norway<br>casescumsum=%{x}<br>mortality=%{y}\", \"hovertext\": [\"Norway\", \"Norway\", \"Norway\"], \"legendgroup\": \"Norway\", \"line\": {\"color\": \"#00cc96\", \"dash\": \"solid\"}, \"mode\": \"lines\", \"name\": \"Norway\", \"showlegend\": true, \"type\": \"scatter\", \"x\": [1077, 1169, 1308], \"xaxis\": \"x\", \"y\": [0.0009285051067780873, 0.0025662959794696323, 0.0022935779816513763], \"yaxis\": \"y\"}, {\"hoverlabel\": {\"namelength\": 0}, \"hovertemplate\": \"<b>%{hovertext}</b><br><br>Countries and territories=Austria<br>casescumsum=%{x}<br>mortality=%{y}\", \"hovertext\": [\"Austria\", \"Austria\"], \"legendgroup\": \"Austria\", \"line\": {\"color\": \"#ab63fa\", \"dash\": \"solid\"}, \"mode\": \"lines\", \"name\": \"Austria\", \"showlegend\": true, \"type\": \"scatter\", \"x\": [1016, 1332], \"xaxis\": \"x\", \"y\": [0.002952755905511811, 0.0022522522522522522], \"yaxis\": \"y\"}, {\"hoverlabel\": {\"namelength\": 0}, \"hovertemplate\": \"<b>%{hovertext}</b><br><br>Countries and territories=Belgium<br>casescumsum=%{x}<br>mortality=%{y}\", \"hovertext\": [\"Belgium\", \"Belgium\"], \"legendgroup\": \"Belgium\", \"line\": {\"color\": \"#FFA15A\", \"dash\": \"solid\"}, \"mode\": \"lines\", \"name\": \"Belgium\", \"showlegend\": true, \"type\": \"scatter\", \"x\": [1085, 1243], \"xaxis\": \"x\", \"y\": [0.004608294930875576, 0.004022526146419952], \"yaxis\": \"y\"}, {\"hoverlabel\": {\"namelength\": 0}, \"hovertemplate\": \"<b>%{hovertext}</b><br><br>Countries and territories=Denmark<br>casescumsum=%{x}<br>mortality=%{y}\", \"hovertext\": [\"Denmark\"], \"legendgroup\": \"Denmark\", \"line\": {\"color\": \"#19d3f3\", \"dash\": \"solid\"}, \"mode\": \"lines\", \"name\": \"Denmark\", \"showlegend\": true, \"type\": \"scatter\", \"x\": [1024], \"xaxis\": \"x\", \"y\": [0.00390625], \"yaxis\": \"y\"}],\n",
       "                        {\"legend\": {\"title\": {\"text\": \"Countries and territories\"}, \"tracegroupgap\": 0}, \"margin\": {\"t\": 60}, \"template\": {\"data\": {\"bar\": [{\"error_x\": {\"color\": \"#2a3f5f\"}, \"error_y\": {\"color\": \"#2a3f5f\"}, \"marker\": {\"line\": {\"color\": \"#E5ECF6\", \"width\": 0.5}}, \"type\": \"bar\"}], \"barpolar\": [{\"marker\": {\"line\": {\"color\": \"#E5ECF6\", \"width\": 0.5}}, \"type\": \"barpolar\"}], \"carpet\": [{\"aaxis\": {\"endlinecolor\": \"#2a3f5f\", \"gridcolor\": \"white\", \"linecolor\": \"white\", \"minorgridcolor\": \"white\", \"startlinecolor\": \"#2a3f5f\"}, \"baxis\": {\"endlinecolor\": \"#2a3f5f\", \"gridcolor\": \"white\", \"linecolor\": \"white\", \"minorgridcolor\": \"white\", \"startlinecolor\": \"#2a3f5f\"}, \"type\": \"carpet\"}], \"choropleth\": [{\"colorbar\": {\"outlinewidth\": 0, \"ticks\": \"\"}, \"type\": \"choropleth\"}], \"contour\": [{\"colorbar\": {\"outlinewidth\": 0, \"ticks\": \"\"}, \"colorscale\": [[0.0, \"#0d0887\"], [0.1111111111111111, \"#46039f\"], [0.2222222222222222, \"#7201a8\"], [0.3333333333333333, \"#9c179e\"], [0.4444444444444444, \"#bd3786\"], [0.5555555555555556, \"#d8576b\"], [0.6666666666666666, \"#ed7953\"], [0.7777777777777778, \"#fb9f3a\"], [0.8888888888888888, \"#fdca26\"], [1.0, \"#f0f921\"]], \"type\": \"contour\"}], \"contourcarpet\": [{\"colorbar\": {\"outlinewidth\": 0, \"ticks\": \"\"}, \"type\": \"contourcarpet\"}], \"heatmap\": [{\"colorbar\": {\"outlinewidth\": 0, \"ticks\": \"\"}, \"colorscale\": [[0.0, \"#0d0887\"], [0.1111111111111111, \"#46039f\"], [0.2222222222222222, \"#7201a8\"], [0.3333333333333333, \"#9c179e\"], [0.4444444444444444, \"#bd3786\"], [0.5555555555555556, \"#d8576b\"], [0.6666666666666666, \"#ed7953\"], [0.7777777777777778, \"#fb9f3a\"], [0.8888888888888888, \"#fdca26\"], [1.0, \"#f0f921\"]], \"type\": \"heatmap\"}], \"heatmapgl\": [{\"colorbar\": {\"outlinewidth\": 0, \"ticks\": \"\"}, \"colorscale\": [[0.0, \"#0d0887\"], [0.1111111111111111, \"#46039f\"], [0.2222222222222222, \"#7201a8\"], [0.3333333333333333, \"#9c179e\"], [0.4444444444444444, \"#bd3786\"], [0.5555555555555556, \"#d8576b\"], [0.6666666666666666, \"#ed7953\"], [0.7777777777777778, \"#fb9f3a\"], [0.8888888888888888, \"#fdca26\"], [1.0, \"#f0f921\"]], \"type\": \"heatmapgl\"}], \"histogram\": [{\"marker\": {\"colorbar\": {\"outlinewidth\": 0, \"ticks\": \"\"}}, \"type\": \"histogram\"}], \"histogram2d\": [{\"colorbar\": {\"outlinewidth\": 0, \"ticks\": \"\"}, \"colorscale\": [[0.0, \"#0d0887\"], [0.1111111111111111, \"#46039f\"], [0.2222222222222222, \"#7201a8\"], [0.3333333333333333, \"#9c179e\"], [0.4444444444444444, \"#bd3786\"], [0.5555555555555556, \"#d8576b\"], [0.6666666666666666, \"#ed7953\"], [0.7777777777777778, \"#fb9f3a\"], [0.8888888888888888, \"#fdca26\"], [1.0, \"#f0f921\"]], \"type\": \"histogram2d\"}], \"histogram2dcontour\": [{\"colorbar\": {\"outlinewidth\": 0, \"ticks\": \"\"}, \"colorscale\": [[0.0, \"#0d0887\"], [0.1111111111111111, \"#46039f\"], [0.2222222222222222, \"#7201a8\"], [0.3333333333333333, \"#9c179e\"], [0.4444444444444444, \"#bd3786\"], [0.5555555555555556, \"#d8576b\"], [0.6666666666666666, \"#ed7953\"], [0.7777777777777778, \"#fb9f3a\"], [0.8888888888888888, \"#fdca26\"], [1.0, \"#f0f921\"]], \"type\": \"histogram2dcontour\"}], \"mesh3d\": [{\"colorbar\": {\"outlinewidth\": 0, \"ticks\": \"\"}, \"type\": \"mesh3d\"}], \"parcoords\": [{\"line\": {\"colorbar\": {\"outlinewidth\": 0, \"ticks\": \"\"}}, \"type\": \"parcoords\"}], \"pie\": [{\"automargin\": true, \"type\": \"pie\"}], \"scatter\": [{\"marker\": {\"colorbar\": {\"outlinewidth\": 0, \"ticks\": \"\"}}, \"type\": \"scatter\"}], \"scatter3d\": [{\"line\": {\"colorbar\": {\"outlinewidth\": 0, \"ticks\": \"\"}}, \"marker\": {\"colorbar\": {\"outlinewidth\": 0, \"ticks\": \"\"}}, \"type\": \"scatter3d\"}], \"scattercarpet\": [{\"marker\": {\"colorbar\": {\"outlinewidth\": 0, \"ticks\": \"\"}}, \"type\": \"scattercarpet\"}], \"scattergeo\": [{\"marker\": {\"colorbar\": {\"outlinewidth\": 0, \"ticks\": \"\"}}, \"type\": \"scattergeo\"}], \"scattergl\": [{\"marker\": {\"colorbar\": {\"outlinewidth\": 0, \"ticks\": \"\"}}, \"type\": \"scattergl\"}], \"scattermapbox\": [{\"marker\": {\"colorbar\": {\"outlinewidth\": 0, \"ticks\": \"\"}}, \"type\": \"scattermapbox\"}], \"scatterpolar\": [{\"marker\": {\"colorbar\": {\"outlinewidth\": 0, \"ticks\": \"\"}}, \"type\": \"scatterpolar\"}], \"scatterpolargl\": [{\"marker\": {\"colorbar\": {\"outlinewidth\": 0, \"ticks\": \"\"}}, \"type\": \"scatterpolargl\"}], \"scatterternary\": [{\"marker\": {\"colorbar\": {\"outlinewidth\": 0, \"ticks\": \"\"}}, \"type\": \"scatterternary\"}], \"surface\": [{\"colorbar\": {\"outlinewidth\": 0, \"ticks\": \"\"}, \"colorscale\": [[0.0, \"#0d0887\"], [0.1111111111111111, \"#46039f\"], [0.2222222222222222, \"#7201a8\"], [0.3333333333333333, \"#9c179e\"], [0.4444444444444444, \"#bd3786\"], [0.5555555555555556, \"#d8576b\"], [0.6666666666666666, \"#ed7953\"], [0.7777777777777778, \"#fb9f3a\"], [0.8888888888888888, \"#fdca26\"], [1.0, \"#f0f921\"]], \"type\": \"surface\"}], \"table\": [{\"cells\": {\"fill\": {\"color\": \"#EBF0F8\"}, \"line\": {\"color\": \"white\"}}, \"header\": {\"fill\": {\"color\": \"#C8D4E3\"}, \"line\": {\"color\": \"white\"}}, \"type\": \"table\"}]}, \"layout\": {\"annotationdefaults\": {\"arrowcolor\": \"#2a3f5f\", \"arrowhead\": 0, \"arrowwidth\": 1}, \"coloraxis\": {\"colorbar\": {\"outlinewidth\": 0, \"ticks\": \"\"}}, \"colorscale\": {\"diverging\": [[0, \"#8e0152\"], [0.1, \"#c51b7d\"], [0.2, \"#de77ae\"], [0.3, \"#f1b6da\"], [0.4, \"#fde0ef\"], [0.5, \"#f7f7f7\"], [0.6, \"#e6f5d0\"], [0.7, \"#b8e186\"], [0.8, \"#7fbc41\"], [0.9, \"#4d9221\"], [1, \"#276419\"]], \"sequential\": [[0.0, \"#0d0887\"], [0.1111111111111111, \"#46039f\"], [0.2222222222222222, \"#7201a8\"], [0.3333333333333333, \"#9c179e\"], [0.4444444444444444, \"#bd3786\"], [0.5555555555555556, \"#d8576b\"], [0.6666666666666666, \"#ed7953\"], [0.7777777777777778, \"#fb9f3a\"], [0.8888888888888888, \"#fdca26\"], [1.0, \"#f0f921\"]], \"sequentialminus\": [[0.0, \"#0d0887\"], [0.1111111111111111, \"#46039f\"], [0.2222222222222222, \"#7201a8\"], [0.3333333333333333, \"#9c179e\"], [0.4444444444444444, \"#bd3786\"], [0.5555555555555556, \"#d8576b\"], [0.6666666666666666, \"#ed7953\"], [0.7777777777777778, \"#fb9f3a\"], [0.8888888888888888, \"#fdca26\"], [1.0, \"#f0f921\"]]}, \"colorway\": [\"#636efa\", \"#EF553B\", \"#00cc96\", \"#ab63fa\", \"#FFA15A\", \"#19d3f3\", \"#FF6692\", \"#B6E880\", \"#FF97FF\", \"#FECB52\"], \"font\": {\"color\": \"#2a3f5f\"}, \"geo\": {\"bgcolor\": \"white\", \"lakecolor\": \"white\", \"landcolor\": \"#E5ECF6\", \"showlakes\": true, \"showland\": true, \"subunitcolor\": \"white\"}, \"hoverlabel\": {\"align\": \"left\"}, \"hovermode\": \"closest\", \"mapbox\": {\"style\": \"light\"}, \"paper_bgcolor\": \"white\", \"plot_bgcolor\": \"#E5ECF6\", \"polar\": {\"angularaxis\": {\"gridcolor\": \"white\", \"linecolor\": \"white\", \"ticks\": \"\"}, \"bgcolor\": \"#E5ECF6\", \"radialaxis\": {\"gridcolor\": \"white\", \"linecolor\": \"white\", \"ticks\": \"\"}}, \"scene\": {\"xaxis\": {\"backgroundcolor\": \"#E5ECF6\", \"gridcolor\": \"white\", \"gridwidth\": 2, \"linecolor\": \"white\", \"showbackground\": true, \"ticks\": \"\", \"zerolinecolor\": \"white\"}, \"yaxis\": {\"backgroundcolor\": \"#E5ECF6\", \"gridcolor\": \"white\", \"gridwidth\": 2, \"linecolor\": \"white\", \"showbackground\": true, \"ticks\": \"\", \"zerolinecolor\": \"white\"}, \"zaxis\": {\"backgroundcolor\": \"#E5ECF6\", \"gridcolor\": \"white\", \"gridwidth\": 2, \"linecolor\": \"white\", \"showbackground\": true, \"ticks\": \"\", \"zerolinecolor\": \"white\"}}, \"shapedefaults\": {\"line\": {\"color\": \"#2a3f5f\"}}, \"ternary\": {\"aaxis\": {\"gridcolor\": \"white\", \"linecolor\": \"white\", \"ticks\": \"\"}, \"baxis\": {\"gridcolor\": \"white\", \"linecolor\": \"white\", \"ticks\": \"\"}, \"bgcolor\": \"#E5ECF6\", \"caxis\": {\"gridcolor\": \"white\", \"linecolor\": \"white\", \"ticks\": \"\"}}, \"title\": {\"x\": 0.05}, \"xaxis\": {\"automargin\": true, \"gridcolor\": \"white\", \"linecolor\": \"white\", \"ticks\": \"\", \"title\": {\"standoff\": 15}, \"zerolinecolor\": \"white\", \"zerolinewidth\": 2}, \"yaxis\": {\"automargin\": true, \"gridcolor\": \"white\", \"linecolor\": \"white\", \"ticks\": \"\", \"title\": {\"standoff\": 15}, \"zerolinecolor\": \"white\", \"zerolinewidth\": 2}}}, \"xaxis\": {\"anchor\": \"y\", \"domain\": [0.0, 1.0], \"title\": {\"text\": \"Cumulative number of cases\"}, \"type\": \"log\"}, \"yaxis\": {\"anchor\": \"x\", \"domain\": [0.0, 1.0], \"title\": {\"text\": \"Mortality\"}, \"type\": \"log\"}},\n",
       "                        {\"responsive\": true}\n",
       "                    ).then(function(){\n",
       "                            \n",
       "var gd = document.getElementById('7644c01c-b5a9-45bf-a568-fe96f09ec9c4');\n",
       "var x = new MutationObserver(function (mutations, observer) {{\n",
       "        var display = window.getComputedStyle(gd).display;\n",
       "        if (!display || display === 'none') {{\n",
       "            console.log([gd, 'removed!']);\n",
       "            Plotly.purge(gd);\n",
       "            observer.disconnect();\n",
       "        }}\n",
       "}});\n",
       "\n",
       "// Listen for the removal of the full notebook cells\n",
       "var notebookContainer = gd.closest('#notebook-container');\n",
       "if (notebookContainer) {{\n",
       "    x.observe(notebookContainer, {childList: true});\n",
       "}}\n",
       "\n",
       "// Listen for the clearing of the current output cell\n",
       "var outputEl = gd.closest('.output');\n",
       "if (outputEl) {{\n",
       "    x.observe(outputEl, {childList: true});\n",
       "}}\n",
       "\n",
       "                        })\n",
       "                };\n",
       "                });\n",
       "            </script>\n",
       "        </div>"
      ]
     },
     "metadata": {},
     "output_type": "display_data"
    }
   ],
   "source": [
    "fig = px.line(df[df[\"casescumsum\"] > 1000], \n",
    "              x=\"casescumsum\", \n",
    "              y=\"mortality\", \n",
    "              color=\"Countries and territories\", \n",
    "              line_group=\"Countries and territories\", \n",
    "              hover_name=\"Countries and territories\",\n",
    "#               text=\"Countries and territories\",\n",
    "              log_x = True,\n",
    "              log_y = True\n",
    "        ) #line_shape=\"spline\") #, render_mode=\"svg\")\n",
    "\n",
    "fig.update_xaxes(title_text='Cumulative number of cases')\n",
    "fig.update_yaxes(title_text='Mortality')\n",
    "# fig.write_image(\"fig1.html\")\n",
    "fig.show()"
   ]
  },
  {
   "cell_type": "code",
   "execution_count": null,
   "metadata": {},
   "outputs": [],
   "source": []
  }
 ],
 "metadata": {
  "kernelspec": {
   "display_name": "Python 3",
   "language": "python",
   "name": "python3"
  },
  "language_info": {
   "codemirror_mode": {
    "name": "ipython",
    "version": 3
   },
   "file_extension": ".py",
   "mimetype": "text/x-python",
   "name": "python",
   "nbconvert_exporter": "python",
   "pygments_lexer": "ipython3",
   "version": "3.8.2"
  }
 },
 "nbformat": 4,
 "nbformat_minor": 4
}
