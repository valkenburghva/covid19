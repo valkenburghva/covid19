{
 "cells": [
  {
   "cell_type": "code",
   "execution_count": 1,
   "metadata": {},
   "outputs": [],
   "source": [
    "%load_ext autoreload\n",
    "%autoreload 2"
   ]
  },
  {
   "cell_type": "code",
   "execution_count": null,
   "metadata": {},
   "outputs": [],
   "source": [
    "!pip3 install plotly xlrd psutil requests orca"
   ]
  },
  {
   "cell_type": "code",
   "execution_count": null,
   "metadata": {},
   "outputs": [],
   "source": [
    "import pandas as pd \n",
    "\n",
    "\n",
    "df = pd.read_excel(\"datasources/covid/COVID-19-geographic-disbtribution-worldwide-2020-03-18.xls\")\n",
    "df = df.set_index([\"DateRep\", \"Countries and territories\"])\n",
    "df = df.sort_values(by = \"DateRep\", axis = 'index')\n",
    "df['deathcumsum'] = df.groupby(level=-1)['Deaths'].cumsum()\n",
    "df['casescumsum'] = df.groupby(level=-1)['Cases'].cumsum()\n",
    "df[\"mortality\"] = df[\"deathcumsum\"] / df[\"casescumsum\"]\n",
    "\n",
    "\n",
    "# cases = df.groupby(\"Countries and territories\").agg({\"Deaths\" : \"sum\", \"Cases\" : \"sum\"})\n",
    "# cases[\"mortality\"] = round(cases[\"Deaths\"] / cases[\"Cases\"] * 100, 2)\n",
    "# cases.sort_values(\"Cases\", inplace = True, ascending = False)\n",
    "# cases[\"country\"] = cases.index\n",
    "# print(cases)\n",
    "\n",
    "# fig = px.scatter(cases, x=\"Cases\", y=\"Deaths\", color=\"country\", log_x = True, log_y = True)\n",
    "#         # , marginal_y=\"violin\", marginal_x=\"box\", trendline=\"ols\")\n",
    "# fig.show()\n",
    "\n",
    "df = df.reset_index()\n",
    "print(df)"
   ]
  },
  {
   "cell_type": "code",
   "execution_count": 7,
   "metadata": {},
   "outputs": [
    {
     "name": "stdout",
     "output_type": "stream",
     "text": [
      "        DateRep Countries and territories  Day  Month  Year  Cases  Deaths  \\\n",
      "0    2019-12-31                   Vietnam   31     12  2019      0       0   \n",
      "1    2019-12-31                  Pakistan   31     12  2019      0       0   \n",
      "2    2019-12-31                    Greece   31     12  2019      0       0   \n",
      "3    2019-12-31               Philippines   31     12  2019      0       0   \n",
      "4    2019-12-31                   Germany   31     12  2019      0       0   \n",
      "...         ...                       ...  ...    ...   ...    ...     ...   \n",
      "5524 2020-03-18                 Lithuania   18      3  2020      8       0   \n",
      "5525 2020-03-18             Liechtenstein   18      3  2020      0       0   \n",
      "5526 2020-03-18                   Liberia   18      3  2020      1       0   \n",
      "5527 2020-03-18                    Mexico   18      3  2020     11       0   \n",
      "5528 2020-03-18               Afghanistan   18      3  2020      1       0   \n",
      "\n",
      "     GeoId  deathcumsum  casescumsum  mortality  \n",
      "0       VN            0            0        NaN  \n",
      "1       PK            0            0        NaN  \n",
      "2       EL            0            0        NaN  \n",
      "3       PH            0            0        NaN  \n",
      "4       DE            0            0        NaN  \n",
      "...    ...          ...          ...        ...  \n",
      "5524    LT            0           25        0.0  \n",
      "5525    LI            0            7        0.0  \n",
      "5526    LR            0            2        0.0  \n",
      "5527    MX            0           93        0.0  \n",
      "5528    AF            0           22        0.0  \n",
      "\n",
      "[5529 rows x 11 columns]\n"
     ]
    },
    {
     "data": {
      "application/vnd.plotly.v1+json": {
       "config": {
        "plotlyServerURL": "https://plot.ly"
       },
       "data": [
        {
         "mode": "lines+markers",
         "name": "China",
         "text": [
          "China - 2020-01-26<br>New cases: 665<br>New deaths: 15",
          "China - 2020-01-27<br>New cases: 787<br>New deaths: 25",
          "China - 2020-01-28<br>New cases: 1753<br>New deaths: 25",
          "China - 2020-01-29<br>New cases: 1466<br>New deaths: 26",
          "China - 2020-01-30<br>New cases: 1740<br>New deaths: 38",
          "China - 2020-01-31<br>New cases: 1980<br>New deaths: 43",
          "China - 2020-02-01<br>New cases: 2095<br>New deaths: 46",
          "China - 2020-02-02<br>New cases: 2590<br>New deaths: 45",
          "China - 2020-02-03<br>New cases: 2812<br>New deaths: 57",
          "China - 2020-02-04<br>New cases: 3237<br>New deaths: 65",
          "China - 2020-02-05<br>New cases: 3872<br>New deaths: 66",
          "China - 2020-02-06<br>New cases: 3727<br>New deaths: 72",
          "China - 2020-02-07<br>New cases: 3160<br>New deaths: 73",
          "China - 2020-02-08<br>New cases: 3418<br>New deaths: 86",
          "China - 2020-02-09<br>New cases: 2607<br>New deaths: 89",
          "China - 2020-02-10<br>New cases: 2974<br>New deaths: 97",
          "China - 2020-02-11<br>New cases: 2490<br>New deaths: 108",
          "China - 2020-02-12<br>New cases: 2028<br>New deaths: 97",
          "China - 2020-02-13<br>New cases: 15141<br>New deaths: 254",
          "China - 2020-02-14<br>New cases: 4156<br>New deaths: 13",
          "China - 2020-02-15<br>New cases: 2538<br>New deaths: 143",
          "China - 2020-02-16<br>New cases: 2007<br>New deaths: 142",
          "China - 2020-02-17<br>New cases: 2052<br>New deaths: 105",
          "China - 2020-02-18<br>New cases: 1890<br>New deaths: 98",
          "China - 2020-02-19<br>New cases: 1750<br>New deaths: 139",
          "China - 2020-02-20<br>New cases: 394<br>New deaths: 112",
          "China - 2020-02-21<br>New cases: 891<br>New deaths: 118",
          "China - 2020-02-22<br>New cases: 826<br>New deaths: 109",
          "China - 2020-02-23<br>New cases: 647<br>New deaths: 98",
          "China - 2020-02-24<br>New cases: 218<br>New deaths: 150",
          "China - 2020-02-25<br>New cases: 515<br>New deaths: 70",
          "China - 2020-02-26<br>New cases: 410<br>New deaths: 52",
          "China - 2020-02-27<br>New cases: 439<br>New deaths: 29",
          "China - 2020-02-28<br>New cases: 329<br>New deaths: 44",
          "China - 2020-02-29<br>New cases: 428<br>New deaths: 47",
          "China - 2020-03-01<br>New cases: 574<br>New deaths: 35",
          "China - 2020-03-02<br>New cases: 205<br>New deaths: 42",
          "China - 2020-03-03<br>New cases: 127<br>New deaths: 32",
          "China - 2020-03-04<br>New cases: 119<br>New deaths: 37",
          "China - 2020-03-05<br>New cases: 117<br>New deaths: 31",
          "China - 2020-03-06<br>New cases: 170<br>New deaths: 30",
          "China - 2020-03-07<br>New cases: 101<br>New deaths: 28",
          "China - 2020-03-08<br>New cases: 46<br>New deaths: 27",
          "China - 2020-03-09<br>New cases: 45<br>New deaths: 23",
          "China - 2020-03-10<br>New cases: 20<br>New deaths: 17",
          "China - 2020-03-11<br>New cases: 29<br>New deaths: 22",
          "China - 2020-03-12<br>New cases: 24<br>New deaths: 11",
          "China - 2020-03-13<br>New cases: 22<br>New deaths: 7",
          "China - 2020-03-14<br>New cases: 19<br>New deaths: 15",
          "China - 2020-03-15<br>New cases: 22<br>New deaths: 9",
          "China - 2020-03-16<br>New cases: 25<br>New deaths: 14",
          "China - 2020-03-17<br>New cases: 110<br>New deaths: 9",
          "China - 2020-03-18<br>New cases: 33<br>New deaths: 16"
         ],
         "textposition": "middle right",
         "type": "scatter",
         "x": [
          1988,
          2775,
          4528,
          5994,
          7734,
          9714,
          11809,
          14399,
          17211,
          20448,
          24320,
          28047,
          31207,
          34625,
          37232,
          40206,
          42696,
          44724,
          59865,
          64021,
          66559,
          68566,
          70618,
          72508,
          74258,
          74652,
          75543,
          76369,
          77016,
          77234,
          77749,
          78159,
          78598,
          78927,
          79355,
          79929,
          80134,
          80261,
          80380,
          80497,
          80667,
          80768,
          80814,
          80859,
          80879,
          80908,
          80932,
          80954,
          80973,
          80995,
          81020,
          81130,
          81163
         ],
         "y": [
          0.028169014084507043,
          0.02918918918918919,
          0.023409893992932862,
          0.022022022022022022,
          0.021980863718644945,
          0.021927115503397158,
          0.021932424422050976,
          0.021112577262309883,
          0.02097495787577712,
          0.020833333333333332,
          0.020230263157894737,
          0.02010910257781581,
          0.020412087031755694,
          0.02088086642599278,
          0.021809196390201978,
          0.022608565885688704,
          0.023819561551433388,
          0.024908326625525445,
          0.022851415685291906,
          0.02157104700020306,
          0.02289697862047206,
          0.02429775690575504,
          0.025078591860432185,
          0.025776466045126054,
          0.027040857550701607,
          0.028398435406954938,
          0.029625511298201023,
          0.030732365226728123,
          0.031746650046743534,
          0.03359919206567056,
          0.034276968192516945,
          0.034762471372458706,
          0.03493727575765287,
          0.03534912007297883,
          0.03575074034402369,
          0.03593188955197738,
          0.036364090149000425,
          0.03670524912473057,
          0.03711122169693954,
          0.0374423891573599,
          0.03773538125875513,
          0.03803486529318542,
          0.03834731605909867,
          0.03861042060871393,
          0.038811063440448074,
          0.03906906609976764,
          0.039193396925814264,
          0.03926921461570768,
          0.03944524718115915,
          0.03954565096610902,
          0.0397062453715132,
          0.03976334278318748,
          0.03994430959920161
         ]
        },
        {
         "mode": "text",
         "name": "China",
         "showlegend": false,
         "text": "China",
         "textposition": "middle right",
         "type": "scatter",
         "x": [
          81163
         ],
         "y": [
          0.03994430959920161
         ]
        },
        {
         "mode": "lines+markers",
         "name": "France",
         "text": [
          "France - 2020-03-11<br>New cases: 372<br>New deaths: 3",
          "France - 2020-03-12<br>New cases: 497<br>New deaths: 15",
          "France - 2020-03-13<br>New cases: 595<br>New deaths: 13",
          "France - 2020-03-14<br>New cases: 785<br>New deaths: 18",
          "France - 2020-03-15<br>New cases: 838<br>New deaths: 12",
          "France - 2020-03-16<br>New cases: 924<br>New deaths: 36",
          "France - 2020-03-17<br>New cases: 1210<br>New deaths: 21",
          "France - 2020-03-18<br>New cases: 1097<br>New deaths: 27"
         ],
         "textposition": "middle right",
         "type": "scatter",
         "x": [
          1784,
          2281,
          2876,
          3661,
          4499,
          5423,
          6633,
          7730
         ],
         "y": [
          0.018497757847533634,
          0.02104340201665936,
          0.02121001390820584,
          0.02157880360557225,
          0.02022671704823294,
          0.023418771897473722,
          0.02231267902909694,
          0.022639068564036222
         ]
        },
        {
         "mode": "text",
         "name": "France",
         "showlegend": false,
         "text": "France",
         "textposition": "middle right",
         "type": "scatter",
         "x": [
          7730
         ],
         "y": [
          0.022639068564036222
         ]
        },
        {
         "mode": "lines+markers",
         "name": "Germany",
         "text": [
          "Germany - 2020-03-12<br>New cases: 271<br>New deaths: 1",
          "Germany - 2020-03-13<br>New cases: 802<br>New deaths: 2",
          "Germany - 2020-03-14<br>New cases: 693<br>New deaths: 0",
          "Germany - 2020-03-15<br>New cases: 733<br>New deaths: 3",
          "Germany - 2020-03-16<br>New cases: 1043<br>New deaths: 4",
          "Germany - 2020-03-17<br>New cases: 1174<br>New deaths: 1",
          "Germany - 2020-03-18<br>New cases: 1144<br>New deaths: 0"
         ],
         "textposition": "middle right",
         "type": "scatter",
         "x": [
          1567,
          2369,
          3062,
          3795,
          4838,
          6012,
          7156
         ],
         "y": [
          0.0019144862795149968,
          0.002110595187842972,
          0.0016329196603527107,
          0.002108036890645586,
          0.0024803637866887144,
          0.002162341982701264,
          0.0018166573504751259
         ]
        },
        {
         "mode": "text",
         "name": "Germany",
         "showlegend": false,
         "text": "Germany",
         "textposition": "middle right",
         "type": "scatter",
         "x": [
          7156
         ],
         "y": [
          0.0018166573504751259
         ]
        },
        {
         "mode": "lines+markers",
         "name": "Iran",
         "text": [
          "Iran - 2020-03-03<br>New cases: 523<br>New deaths: 12",
          "Iran - 2020-03-04<br>New cases: 835<br>New deaths: 11",
          "Iran - 2020-03-05<br>New cases: 586<br>New deaths: 15",
          "Iran - 2020-03-06<br>New cases: 591<br>New deaths: 15",
          "Iran - 2020-03-07<br>New cases: 1234<br>New deaths: 17",
          "Iran - 2020-03-08<br>New cases: 1076<br>New deaths: 21",
          "Iran - 2020-03-09<br>New cases: 743<br>New deaths: 49",
          "Iran - 2020-03-10<br>New cases: 595<br>New deaths: 43",
          "Iran - 2020-03-11<br>New cases: 881<br>New deaths: 54",
          "Iran - 2020-03-12<br>New cases: 958<br>New deaths: 63",
          "Iran - 2020-03-13<br>New cases: 1075<br>New deaths: 75",
          "Iran - 2020-03-14<br>New cases: 1289<br>New deaths: 85",
          "Iran - 2020-03-15<br>New cases: 1365<br>New deaths: 97",
          "Iran - 2020-03-16<br>New cases: 1209<br>New deaths: 113",
          "Iran - 2020-03-17<br>New cases: 1053<br>New deaths: 129",
          "Iran - 2020-03-18<br>New cases: 1178<br>New deaths: 135"
         ],
         "textposition": "middle right",
         "type": "scatter",
         "x": [
          1501,
          2336,
          2922,
          3513,
          4747,
          5823,
          6566,
          7161,
          8042,
          9000,
          10075,
          11364,
          12729,
          13938,
          14991,
          16169
         ],
         "y": [
          0.04397068620919387,
          0.03296232876712329,
          0.03148528405201916,
          0.03045829775120979,
          0.02612176111228144,
          0.024901253649321657,
          0.02954614681693573,
          0.03309593632174277,
          0.03618502859985078,
          0.03933333333333333,
          0.04258064516129032,
          0.04523055262231609,
          0.048000628486134025,
          0.05194432486726933,
          0.056900807150957244,
          0.06110458284371328
         ]
        },
        {
         "mode": "text",
         "name": "Iran",
         "showlegend": false,
         "text": "Iran",
         "textposition": "middle right",
         "type": "scatter",
         "x": [
          16169
         ],
         "y": [
          0.06110458284371328
         ]
        },
        {
         "mode": "lines+markers",
         "name": "Italy",
         "text": [
          "Italy - 2020-03-02<br>New cases: 561<br>New deaths: 6",
          "Italy - 2020-03-03<br>New cases: 146<br>New deaths: 17",
          "Italy - 2020-03-04<br>New cases: 667<br>New deaths: 28",
          "Italy - 2020-03-05<br>New cases: 587<br>New deaths: 27",
          "Italy - 2020-03-06<br>New cases: 769<br>New deaths: 41",
          "Italy - 2020-03-07<br>New cases: 778<br>New deaths: 49",
          "Italy - 2020-03-08<br>New cases: 1247<br>New deaths: 36",
          "Italy - 2020-03-09<br>New cases: 1492<br>New deaths: 133",
          "Italy - 2020-03-10<br>New cases: 1797<br>New deaths: 98",
          "Italy - 2020-03-11<br>New cases: 977<br>New deaths: 167",
          "Italy - 2020-03-12<br>New cases: 2313<br>New deaths: 196",
          "Italy - 2020-03-13<br>New cases: 2651<br>New deaths: 189",
          "Italy - 2020-03-14<br>New cases: 2547<br>New deaths: 252",
          "Italy - 2020-03-15<br>New cases: 90<br>New deaths: 173",
          "Italy - 2020-03-16<br>New cases: 6230<br>New deaths: 370",
          "Italy - 2020-03-17<br>New cases: 4000<br>New deaths: 347",
          "Italy - 2020-03-18<br>New cases: 3526<br>New deaths: 347"
         ],
         "textposition": "middle right",
         "type": "scatter",
         "x": [
          1689,
          1835,
          2502,
          3089,
          3858,
          4636,
          5883,
          7375,
          9172,
          10149,
          12462,
          15113,
          17660,
          17750,
          23980,
          27980,
          31506
         ],
         "y": [
          0.020722320899940794,
          0.028337874659400544,
          0.0319744204636291,
          0.03463904176108773,
          0.0383618455158113,
          0.042493528904227786,
          0.039605643379228284,
          0.0496271186440678,
          0.05058874836458788,
          0.062173613163858506,
          0.06636173968865351,
          0.06722689075630252,
          0.07180067950169876,
          0.08118309859154929,
          0.07552126772310258,
          0.0771265189421015,
          0.07950866501618739
         ]
        },
        {
         "mode": "text",
         "name": "Italy",
         "showlegend": false,
         "text": "Italy",
         "textposition": "middle right",
         "type": "scatter",
         "x": [
          31506
         ],
         "y": [
          0.07950866501618739
         ]
        },
        {
         "mode": "lines+markers",
         "name": "Netherlands",
         "text": [
          "Netherlands - 2020-03-18<br>New cases: 292<br>New deaths: 0"
         ],
         "textposition": "middle right",
         "type": "scatter",
         "x": [
          1705
         ],
         "y": [
          0.01407624633431085
         ]
        },
        {
         "mode": "text",
         "name": "Netherlands",
         "showlegend": false,
         "text": "Netherlands",
         "textposition": "middle right",
         "type": "scatter",
         "x": [
          1705
         ],
         "y": [
          0.01407624633431085
         ]
        },
        {
         "mode": "lines+markers",
         "name": "South_Korea",
         "text": [
          "South_Korea - 2020-02-27<br>New cases: 449<br>New deaths: 1",
          "South_Korea - 2020-02-28<br>New cases: 427<br>New deaths: 1",
          "South_Korea - 2020-02-29<br>New cases: 909<br>New deaths: 3",
          "South_Korea - 2020-03-01<br>New cases: 595<br>New deaths: 1",
          "South_Korea - 2020-03-02<br>New cases: 686<br>New deaths: 5",
          "South_Korea - 2020-03-03<br>New cases: 600<br>New deaths: 6",
          "South_Korea - 2020-03-04<br>New cases: 516<br>New deaths: 4",
          "South_Korea - 2020-03-05<br>New cases: 438<br>New deaths: 3",
          "South_Korea - 2020-03-06<br>New cases: 518<br>New deaths: 7",
          "South_Korea - 2020-03-07<br>New cases: 483<br>New deaths: 2",
          "South_Korea - 2020-03-08<br>New cases: 367<br>New deaths: 6",
          "South_Korea - 2020-03-09<br>New cases: 248<br>New deaths: 1",
          "South_Korea - 2020-03-10<br>New cases: 131<br>New deaths: 3",
          "South_Korea - 2020-03-11<br>New cases: 242<br>New deaths: 6",
          "South_Korea - 2020-03-12<br>New cases: 114<br>New deaths: 6",
          "South_Korea - 2020-03-13<br>New cases: 110<br>New deaths: 1",
          "South_Korea - 2020-03-14<br>New cases: 107<br>New deaths: 5",
          "South_Korea - 2020-03-15<br>New cases: 76<br>New deaths: 3",
          "South_Korea - 2020-03-16<br>New cases: 74<br>New deaths: 0",
          "South_Korea - 2020-03-17<br>New cases: 84<br>New deaths: 6",
          "South_Korea - 2020-03-18<br>New cases: 93<br>New deaths: 5"
         ],
         "textposition": "middle right",
         "type": "scatter",
         "x": [
          1595,
          2022,
          2931,
          3526,
          4212,
          4812,
          5328,
          5766,
          6284,
          6767,
          7134,
          7382,
          7513,
          7755,
          7869,
          7979,
          8086,
          8162,
          8236,
          8320,
          8413
         ],
         "y": [
          0.007523510971786834,
          0.006429277942631058,
          0.005458887751620608,
          0.004821327283040272,
          0.0052231718898385565,
          0.005818786367414797,
          0.006006006006006006,
          0.0060700659035726676,
          0.00668364099299809,
          0.0065021427515885915,
          0.007008690776562938,
          0.006908696830127336,
          0.007187541594569413,
          0.007736943907156673,
          0.008387342737323675,
          0.008397042235869156,
          0.008904279000742024,
          0.009188924283263906,
          0.009106362311801846,
          0.009735576923076923,
          0.010222275050517057
         ]
        },
        {
         "mode": "text",
         "name": "South_Korea",
         "showlegend": false,
         "text": "South_Korea",
         "textposition": "middle right",
         "type": "scatter",
         "x": [
          8413
         ],
         "y": [
          0.010222275050517057
         ]
        },
        {
         "mode": "lines+markers",
         "name": "Spain",
         "text": [
          "Spain - 2020-03-11<br>New cases: 435<br>New deaths: 7",
          "Spain - 2020-03-12<br>New cases: 501<br>New deaths: 12",
          "Spain - 2020-03-13<br>New cases: 864<br>New deaths: 37",
          "Spain - 2020-03-14<br>New cases: 1227<br>New deaths: 37",
          "Spain - 2020-03-15<br>New cases: 1522<br>New deaths: 15",
          "Spain - 2020-03-16<br>New cases: 2000<br>New deaths: 152",
          "Spain - 2020-03-17<br>New cases: 1438<br>New deaths: 21",
          "Spain - 2020-03-18<br>New cases: 1987<br>New deaths: 182"
         ],
         "textposition": "middle right",
         "type": "scatter",
         "x": [
          1639,
          2140,
          3004,
          4231,
          5753,
          7753,
          9191,
          11178
         ],
         "y": [
          0.021354484441732765,
          0.021962616822429906,
          0.02796271637816245,
          0.028598440085086267,
          0.02363984008343473,
          0.03714691087321037,
          0.03361984550103362,
          0.043925568080157455
         ]
        },
        {
         "mode": "text",
         "name": "Spain",
         "showlegend": false,
         "text": "Spain",
         "textposition": "middle right",
         "type": "scatter",
         "x": [
          11178
         ],
         "y": [
          0.043925568080157455
         ]
        },
        {
         "mode": "lines+markers",
         "name": "Switzerland",
         "text": [
          "Switzerland - 2020-03-16<br>New cases: 841<br>New deaths: 2",
          "Switzerland - 2020-03-17<br>New cases: 0<br>New deaths: 1",
          "Switzerland - 2020-03-18<br>New cases: 450<br>New deaths: 5"
         ],
         "textposition": "middle right",
         "type": "scatter",
         "x": [
          2200,
          2200,
          2650
         ],
         "y": [
          0.005909090909090909,
          0.006363636363636364,
          0.007169811320754717
         ]
        },
        {
         "mode": "text",
         "name": "Switzerland",
         "showlegend": false,
         "text": "Switzerland",
         "textposition": "middle right",
         "type": "scatter",
         "x": [
          2650
         ],
         "y": [
          0.007169811320754717
         ]
        },
        {
         "mode": "lines+markers",
         "name": "United_Kingdom",
         "text": [
          "United_Kingdom - 2020-03-17<br>New cases: 152<br>New deaths: 20",
          "United_Kingdom - 2020-03-18<br>New cases: 407<br>New deaths: 5"
         ],
         "textposition": "middle right",
         "type": "scatter",
         "x": [
          1543,
          1950
         ],
         "y": [
          0.0356448476992871,
          0.03076923076923077
         ]
        },
        {
         "mode": "text",
         "name": "United_Kingdom",
         "showlegend": false,
         "text": "United_Kingdom",
         "textposition": "middle right",
         "type": "scatter",
         "x": [
          1950
         ],
         "y": [
          0.03076923076923077
         ]
        },
        {
         "mode": "lines+markers",
         "name": "United_States_of_America",
         "text": [
          "United_States_of_America - 2020-03-13<br>New cases: 351<br>New deaths: 10",
          "United_States_of_America - 2020-03-14<br>New cases: 511<br>New deaths: 7",
          "United_States_of_America - 2020-03-15<br>New cases: 777<br>New deaths: 10",
          "United_States_of_America - 2020-03-16<br>New cases: 823<br>New deaths: 12",
          "United_States_of_America - 2020-03-17<br>New cases: 887<br>New deaths: 16",
          "United_States_of_America - 2020-03-18<br>New cases: 1766<br>New deaths: 23"
         ],
         "textposition": "middle right",
         "type": "scatter",
         "x": [
          1663,
          2174,
          2951,
          3774,
          4661,
          6427
         ],
         "y": [
          0.024052916416115455,
          0.021619135234590615,
          0.0193154862758387,
          0.018282988871224166,
          0.018236429950654366,
          0.016804107670763964
         ]
        },
        {
         "mode": "text",
         "name": "United_States_of_America",
         "showlegend": false,
         "text": "United_States_of_America",
         "textposition": "middle right",
         "type": "scatter",
         "x": [
          6427
         ],
         "y": [
          0.016804107670763964
         ]
        }
       ],
       "layout": {
        "autosize": true,
        "template": {
         "data": {
          "bar": [
           {
            "error_x": {
             "color": "#2a3f5f"
            },
            "error_y": {
             "color": "#2a3f5f"
            },
            "marker": {
             "line": {
              "color": "#E5ECF6",
              "width": 0.5
             }
            },
            "type": "bar"
           }
          ],
          "barpolar": [
           {
            "marker": {
             "line": {
              "color": "#E5ECF6",
              "width": 0.5
             }
            },
            "type": "barpolar"
           }
          ],
          "carpet": [
           {
            "aaxis": {
             "endlinecolor": "#2a3f5f",
             "gridcolor": "white",
             "linecolor": "white",
             "minorgridcolor": "white",
             "startlinecolor": "#2a3f5f"
            },
            "baxis": {
             "endlinecolor": "#2a3f5f",
             "gridcolor": "white",
             "linecolor": "white",
             "minorgridcolor": "white",
             "startlinecolor": "#2a3f5f"
            },
            "type": "carpet"
           }
          ],
          "choropleth": [
           {
            "colorbar": {
             "outlinewidth": 0,
             "ticks": ""
            },
            "type": "choropleth"
           }
          ],
          "contour": [
           {
            "colorbar": {
             "outlinewidth": 0,
             "ticks": ""
            },
            "colorscale": [
             [
              0,
              "#0d0887"
             ],
             [
              0.1111111111111111,
              "#46039f"
             ],
             [
              0.2222222222222222,
              "#7201a8"
             ],
             [
              0.3333333333333333,
              "#9c179e"
             ],
             [
              0.4444444444444444,
              "#bd3786"
             ],
             [
              0.5555555555555556,
              "#d8576b"
             ],
             [
              0.6666666666666666,
              "#ed7953"
             ],
             [
              0.7777777777777778,
              "#fb9f3a"
             ],
             [
              0.8888888888888888,
              "#fdca26"
             ],
             [
              1,
              "#f0f921"
             ]
            ],
            "type": "contour"
           }
          ],
          "contourcarpet": [
           {
            "colorbar": {
             "outlinewidth": 0,
             "ticks": ""
            },
            "type": "contourcarpet"
           }
          ],
          "heatmap": [
           {
            "colorbar": {
             "outlinewidth": 0,
             "ticks": ""
            },
            "colorscale": [
             [
              0,
              "#0d0887"
             ],
             [
              0.1111111111111111,
              "#46039f"
             ],
             [
              0.2222222222222222,
              "#7201a8"
             ],
             [
              0.3333333333333333,
              "#9c179e"
             ],
             [
              0.4444444444444444,
              "#bd3786"
             ],
             [
              0.5555555555555556,
              "#d8576b"
             ],
             [
              0.6666666666666666,
              "#ed7953"
             ],
             [
              0.7777777777777778,
              "#fb9f3a"
             ],
             [
              0.8888888888888888,
              "#fdca26"
             ],
             [
              1,
              "#f0f921"
             ]
            ],
            "type": "heatmap"
           }
          ],
          "heatmapgl": [
           {
            "colorbar": {
             "outlinewidth": 0,
             "ticks": ""
            },
            "colorscale": [
             [
              0,
              "#0d0887"
             ],
             [
              0.1111111111111111,
              "#46039f"
             ],
             [
              0.2222222222222222,
              "#7201a8"
             ],
             [
              0.3333333333333333,
              "#9c179e"
             ],
             [
              0.4444444444444444,
              "#bd3786"
             ],
             [
              0.5555555555555556,
              "#d8576b"
             ],
             [
              0.6666666666666666,
              "#ed7953"
             ],
             [
              0.7777777777777778,
              "#fb9f3a"
             ],
             [
              0.8888888888888888,
              "#fdca26"
             ],
             [
              1,
              "#f0f921"
             ]
            ],
            "type": "heatmapgl"
           }
          ],
          "histogram": [
           {
            "marker": {
             "colorbar": {
              "outlinewidth": 0,
              "ticks": ""
             }
            },
            "type": "histogram"
           }
          ],
          "histogram2d": [
           {
            "colorbar": {
             "outlinewidth": 0,
             "ticks": ""
            },
            "colorscale": [
             [
              0,
              "#0d0887"
             ],
             [
              0.1111111111111111,
              "#46039f"
             ],
             [
              0.2222222222222222,
              "#7201a8"
             ],
             [
              0.3333333333333333,
              "#9c179e"
             ],
             [
              0.4444444444444444,
              "#bd3786"
             ],
             [
              0.5555555555555556,
              "#d8576b"
             ],
             [
              0.6666666666666666,
              "#ed7953"
             ],
             [
              0.7777777777777778,
              "#fb9f3a"
             ],
             [
              0.8888888888888888,
              "#fdca26"
             ],
             [
              1,
              "#f0f921"
             ]
            ],
            "type": "histogram2d"
           }
          ],
          "histogram2dcontour": [
           {
            "colorbar": {
             "outlinewidth": 0,
             "ticks": ""
            },
            "colorscale": [
             [
              0,
              "#0d0887"
             ],
             [
              0.1111111111111111,
              "#46039f"
             ],
             [
              0.2222222222222222,
              "#7201a8"
             ],
             [
              0.3333333333333333,
              "#9c179e"
             ],
             [
              0.4444444444444444,
              "#bd3786"
             ],
             [
              0.5555555555555556,
              "#d8576b"
             ],
             [
              0.6666666666666666,
              "#ed7953"
             ],
             [
              0.7777777777777778,
              "#fb9f3a"
             ],
             [
              0.8888888888888888,
              "#fdca26"
             ],
             [
              1,
              "#f0f921"
             ]
            ],
            "type": "histogram2dcontour"
           }
          ],
          "mesh3d": [
           {
            "colorbar": {
             "outlinewidth": 0,
             "ticks": ""
            },
            "type": "mesh3d"
           }
          ],
          "parcoords": [
           {
            "line": {
             "colorbar": {
              "outlinewidth": 0,
              "ticks": ""
             }
            },
            "type": "parcoords"
           }
          ],
          "pie": [
           {
            "automargin": true,
            "type": "pie"
           }
          ],
          "scatter": [
           {
            "marker": {
             "colorbar": {
              "outlinewidth": 0,
              "ticks": ""
             }
            },
            "type": "scatter"
           }
          ],
          "scatter3d": [
           {
            "line": {
             "colorbar": {
              "outlinewidth": 0,
              "ticks": ""
             }
            },
            "marker": {
             "colorbar": {
              "outlinewidth": 0,
              "ticks": ""
             }
            },
            "type": "scatter3d"
           }
          ],
          "scattercarpet": [
           {
            "marker": {
             "colorbar": {
              "outlinewidth": 0,
              "ticks": ""
             }
            },
            "type": "scattercarpet"
           }
          ],
          "scattergeo": [
           {
            "marker": {
             "colorbar": {
              "outlinewidth": 0,
              "ticks": ""
             }
            },
            "type": "scattergeo"
           }
          ],
          "scattergl": [
           {
            "marker": {
             "colorbar": {
              "outlinewidth": 0,
              "ticks": ""
             }
            },
            "type": "scattergl"
           }
          ],
          "scattermapbox": [
           {
            "marker": {
             "colorbar": {
              "outlinewidth": 0,
              "ticks": ""
             }
            },
            "type": "scattermapbox"
           }
          ],
          "scatterpolar": [
           {
            "marker": {
             "colorbar": {
              "outlinewidth": 0,
              "ticks": ""
             }
            },
            "type": "scatterpolar"
           }
          ],
          "scatterpolargl": [
           {
            "marker": {
             "colorbar": {
              "outlinewidth": 0,
              "ticks": ""
             }
            },
            "type": "scatterpolargl"
           }
          ],
          "scatterternary": [
           {
            "marker": {
             "colorbar": {
              "outlinewidth": 0,
              "ticks": ""
             }
            },
            "type": "scatterternary"
           }
          ],
          "surface": [
           {
            "colorbar": {
             "outlinewidth": 0,
             "ticks": ""
            },
            "colorscale": [
             [
              0,
              "#0d0887"
             ],
             [
              0.1111111111111111,
              "#46039f"
             ],
             [
              0.2222222222222222,
              "#7201a8"
             ],
             [
              0.3333333333333333,
              "#9c179e"
             ],
             [
              0.4444444444444444,
              "#bd3786"
             ],
             [
              0.5555555555555556,
              "#d8576b"
             ],
             [
              0.6666666666666666,
              "#ed7953"
             ],
             [
              0.7777777777777778,
              "#fb9f3a"
             ],
             [
              0.8888888888888888,
              "#fdca26"
             ],
             [
              1,
              "#f0f921"
             ]
            ],
            "type": "surface"
           }
          ],
          "table": [
           {
            "cells": {
             "fill": {
              "color": "#EBF0F8"
             },
             "line": {
              "color": "white"
             }
            },
            "header": {
             "fill": {
              "color": "#C8D4E3"
             },
             "line": {
              "color": "white"
             }
            },
            "type": "table"
           }
          ]
         },
         "layout": {
          "annotationdefaults": {
           "arrowcolor": "#2a3f5f",
           "arrowhead": 0,
           "arrowwidth": 1
          },
          "coloraxis": {
           "colorbar": {
            "outlinewidth": 0,
            "ticks": ""
           }
          },
          "colorscale": {
           "diverging": [
            [
             0,
             "#8e0152"
            ],
            [
             0.1,
             "#c51b7d"
            ],
            [
             0.2,
             "#de77ae"
            ],
            [
             0.3,
             "#f1b6da"
            ],
            [
             0.4,
             "#fde0ef"
            ],
            [
             0.5,
             "#f7f7f7"
            ],
            [
             0.6,
             "#e6f5d0"
            ],
            [
             0.7,
             "#b8e186"
            ],
            [
             0.8,
             "#7fbc41"
            ],
            [
             0.9,
             "#4d9221"
            ],
            [
             1,
             "#276419"
            ]
           ],
           "sequential": [
            [
             0,
             "#0d0887"
            ],
            [
             0.1111111111111111,
             "#46039f"
            ],
            [
             0.2222222222222222,
             "#7201a8"
            ],
            [
             0.3333333333333333,
             "#9c179e"
            ],
            [
             0.4444444444444444,
             "#bd3786"
            ],
            [
             0.5555555555555556,
             "#d8576b"
            ],
            [
             0.6666666666666666,
             "#ed7953"
            ],
            [
             0.7777777777777778,
             "#fb9f3a"
            ],
            [
             0.8888888888888888,
             "#fdca26"
            ],
            [
             1,
             "#f0f921"
            ]
           ],
           "sequentialminus": [
            [
             0,
             "#0d0887"
            ],
            [
             0.1111111111111111,
             "#46039f"
            ],
            [
             0.2222222222222222,
             "#7201a8"
            ],
            [
             0.3333333333333333,
             "#9c179e"
            ],
            [
             0.4444444444444444,
             "#bd3786"
            ],
            [
             0.5555555555555556,
             "#d8576b"
            ],
            [
             0.6666666666666666,
             "#ed7953"
            ],
            [
             0.7777777777777778,
             "#fb9f3a"
            ],
            [
             0.8888888888888888,
             "#fdca26"
            ],
            [
             1,
             "#f0f921"
            ]
           ]
          },
          "colorway": [
           "#636efa",
           "#EF553B",
           "#00cc96",
           "#ab63fa",
           "#FFA15A",
           "#19d3f3",
           "#FF6692",
           "#B6E880",
           "#FF97FF",
           "#FECB52"
          ],
          "font": {
           "color": "#2a3f5f"
          },
          "geo": {
           "bgcolor": "white",
           "lakecolor": "white",
           "landcolor": "#E5ECF6",
           "showlakes": true,
           "showland": true,
           "subunitcolor": "white"
          },
          "hoverlabel": {
           "align": "left"
          },
          "hovermode": "closest",
          "mapbox": {
           "style": "light"
          },
          "paper_bgcolor": "white",
          "plot_bgcolor": "#E5ECF6",
          "polar": {
           "angularaxis": {
            "gridcolor": "white",
            "linecolor": "white",
            "ticks": ""
           },
           "bgcolor": "#E5ECF6",
           "radialaxis": {
            "gridcolor": "white",
            "linecolor": "white",
            "ticks": ""
           }
          },
          "scene": {
           "xaxis": {
            "backgroundcolor": "#E5ECF6",
            "gridcolor": "white",
            "gridwidth": 2,
            "linecolor": "white",
            "showbackground": true,
            "ticks": "",
            "zerolinecolor": "white"
           },
           "yaxis": {
            "backgroundcolor": "#E5ECF6",
            "gridcolor": "white",
            "gridwidth": 2,
            "linecolor": "white",
            "showbackground": true,
            "ticks": "",
            "zerolinecolor": "white"
           },
           "zaxis": {
            "backgroundcolor": "#E5ECF6",
            "gridcolor": "white",
            "gridwidth": 2,
            "linecolor": "white",
            "showbackground": true,
            "ticks": "",
            "zerolinecolor": "white"
           }
          },
          "shapedefaults": {
           "line": {
            "color": "#2a3f5f"
           }
          },
          "ternary": {
           "aaxis": {
            "gridcolor": "white",
            "linecolor": "white",
            "ticks": ""
           },
           "baxis": {
            "gridcolor": "white",
            "linecolor": "white",
            "ticks": ""
           },
           "bgcolor": "#E5ECF6",
           "caxis": {
            "gridcolor": "white",
            "linecolor": "white",
            "ticks": ""
           }
          },
          "title": {
           "x": 0.05
          },
          "xaxis": {
           "automargin": true,
           "gridcolor": "white",
           "linecolor": "white",
           "ticks": "",
           "title": {
            "standoff": 15
           },
           "zerolinecolor": "white",
           "zerolinewidth": 2
          },
          "yaxis": {
           "automargin": true,
           "gridcolor": "white",
           "linecolor": "white",
           "ticks": "",
           "title": {
            "standoff": 15
           },
           "zerolinecolor": "white",
           "zerolinewidth": 2
          }
         }
        },
        "xaxis": {
         "autorange": true,
         "range": [
          3.0625354616459854,
          5.0232033219325505
         ],
         "title": {
          "text": "Cumulative number of cases"
         },
         "type": "log"
        },
        "yaxis": {
         "autorange": true,
         "range": [
          -2.9113011645909666,
          -0.9662683940123804
         ],
         "title": {
          "text": "Mortality"
         },
         "type": "log"
        }
       }
      },
      "image/png": "[encoded data removed]",
      "text/html": [
       "<div>\n",
       "        \n",
       "        \n",
       "            <div id=\"5bc3230d-4220-44ae-8cb6-60ddfb354b4b\" class=\"plotly-graph-div\" style=\"height:525px; width:100%;\"></div>\n",
       "            <script type=\"text/javascript\">\n",
       "                require([\"plotly\"], function(Plotly) {\n",
       "                    window.PLOTLYENV=window.PLOTLYENV || {};\n",
       "                    \n",
       "                if (document.getElementById(\"5bc3230d-4220-44ae-8cb6-60ddfb354b4b\")) {\n",
       "                    Plotly.newPlot(\n",
       "                        '5bc3230d-4220-44ae-8cb6-60ddfb354b4b',\n",
       "                        [{\"mode\": \"lines+markers\", \"name\": \"China\", \"text\": [\"China - 2020-01-26<br>New cases: 665<br>New deaths: 15\", \"China - 2020-01-27<br>New cases: 787<br>New deaths: 25\", \"China - 2020-01-28<br>New cases: 1753<br>New deaths: 25\", \"China - 2020-01-29<br>New cases: 1466<br>New deaths: 26\", \"China - 2020-01-30<br>New cases: 1740<br>New deaths: 38\", \"China - 2020-01-31<br>New cases: 1980<br>New deaths: 43\", \"China - 2020-02-01<br>New cases: 2095<br>New deaths: 46\", \"China - 2020-02-02<br>New cases: 2590<br>New deaths: 45\", \"China - 2020-02-03<br>New cases: 2812<br>New deaths: 57\", \"China - 2020-02-04<br>New cases: 3237<br>New deaths: 65\", \"China - 2020-02-05<br>New cases: 3872<br>New deaths: 66\", \"China - 2020-02-06<br>New cases: 3727<br>New deaths: 72\", \"China - 2020-02-07<br>New cases: 3160<br>New deaths: 73\", \"China - 2020-02-08<br>New cases: 3418<br>New deaths: 86\", \"China - 2020-02-09<br>New cases: 2607<br>New deaths: 89\", \"China - 2020-02-10<br>New cases: 2974<br>New deaths: 97\", \"China - 2020-02-11<br>New cases: 2490<br>New deaths: 108\", \"China - 2020-02-12<br>New cases: 2028<br>New deaths: 97\", \"China - 2020-02-13<br>New cases: 15141<br>New deaths: 254\", \"China - 2020-02-14<br>New cases: 4156<br>New deaths: 13\", \"China - 2020-02-15<br>New cases: 2538<br>New deaths: 143\", \"China - 2020-02-16<br>New cases: 2007<br>New deaths: 142\", \"China - 2020-02-17<br>New cases: 2052<br>New deaths: 105\", \"China - 2020-02-18<br>New cases: 1890<br>New deaths: 98\", \"China - 2020-02-19<br>New cases: 1750<br>New deaths: 139\", \"China - 2020-02-20<br>New cases: 394<br>New deaths: 112\", \"China - 2020-02-21<br>New cases: 891<br>New deaths: 118\", \"China - 2020-02-22<br>New cases: 826<br>New deaths: 109\", \"China - 2020-02-23<br>New cases: 647<br>New deaths: 98\", \"China - 2020-02-24<br>New cases: 218<br>New deaths: 150\", \"China - 2020-02-25<br>New cases: 515<br>New deaths: 70\", \"China - 2020-02-26<br>New cases: 410<br>New deaths: 52\", \"China - 2020-02-27<br>New cases: 439<br>New deaths: 29\", \"China - 2020-02-28<br>New cases: 329<br>New deaths: 44\", \"China - 2020-02-29<br>New cases: 428<br>New deaths: 47\", \"China - 2020-03-01<br>New cases: 574<br>New deaths: 35\", \"China - 2020-03-02<br>New cases: 205<br>New deaths: 42\", \"China - 2020-03-03<br>New cases: 127<br>New deaths: 32\", \"China - 2020-03-04<br>New cases: 119<br>New deaths: 37\", \"China - 2020-03-05<br>New cases: 117<br>New deaths: 31\", \"China - 2020-03-06<br>New cases: 170<br>New deaths: 30\", \"China - 2020-03-07<br>New cases: 101<br>New deaths: 28\", \"China - 2020-03-08<br>New cases: 46<br>New deaths: 27\", \"China - 2020-03-09<br>New cases: 45<br>New deaths: 23\", \"China - 2020-03-10<br>New cases: 20<br>New deaths: 17\", \"China - 2020-03-11<br>New cases: 29<br>New deaths: 22\", \"China - 2020-03-12<br>New cases: 24<br>New deaths: 11\", \"China - 2020-03-13<br>New cases: 22<br>New deaths: 7\", \"China - 2020-03-14<br>New cases: 19<br>New deaths: 15\", \"China - 2020-03-15<br>New cases: 22<br>New deaths: 9\", \"China - 2020-03-16<br>New cases: 25<br>New deaths: 14\", \"China - 2020-03-17<br>New cases: 110<br>New deaths: 9\", \"China - 2020-03-18<br>New cases: 33<br>New deaths: 16\"], \"textposition\": \"middle right\", \"type\": \"scatter\", \"x\": [1988, 2775, 4528, 5994, 7734, 9714, 11809, 14399, 17211, 20448, 24320, 28047, 31207, 34625, 37232, 40206, 42696, 44724, 59865, 64021, 66559, 68566, 70618, 72508, 74258, 74652, 75543, 76369, 77016, 77234, 77749, 78159, 78598, 78927, 79355, 79929, 80134, 80261, 80380, 80497, 80667, 80768, 80814, 80859, 80879, 80908, 80932, 80954, 80973, 80995, 81020, 81130, 81163], \"y\": [0.028169014084507043, 0.02918918918918919, 0.023409893992932862, 0.022022022022022022, 0.021980863718644945, 0.021927115503397158, 0.021932424422050976, 0.021112577262309883, 0.02097495787577712, 0.020833333333333332, 0.020230263157894737, 0.02010910257781581, 0.020412087031755694, 0.02088086642599278, 0.021809196390201978, 0.022608565885688704, 0.023819561551433388, 0.024908326625525445, 0.022851415685291906, 0.02157104700020306, 0.02289697862047206, 0.02429775690575504, 0.025078591860432185, 0.025776466045126054, 0.027040857550701607, 0.028398435406954938, 0.029625511298201023, 0.030732365226728123, 0.031746650046743534, 0.03359919206567056, 0.034276968192516945, 0.034762471372458706, 0.03493727575765287, 0.03534912007297883, 0.03575074034402369, 0.03593188955197738, 0.036364090149000425, 0.03670524912473057, 0.03711122169693954, 0.0374423891573599, 0.03773538125875513, 0.03803486529318542, 0.03834731605909867, 0.03861042060871393, 0.038811063440448074, 0.03906906609976764, 0.039193396925814264, 0.03926921461570768, 0.03944524718115915, 0.03954565096610902, 0.0397062453715132, 0.03976334278318748, 0.03994430959920161]}, {\"mode\": \"text\", \"name\": \"China\", \"showlegend\": false, \"text\": \"China\", \"textposition\": \"middle right\", \"type\": \"scatter\", \"x\": [81163], \"y\": [0.03994430959920161]}, {\"mode\": \"lines+markers\", \"name\": \"France\", \"text\": [\"France - 2020-03-11<br>New cases: 372<br>New deaths: 3\", \"France - 2020-03-12<br>New cases: 497<br>New deaths: 15\", \"France - 2020-03-13<br>New cases: 595<br>New deaths: 13\", \"France - 2020-03-14<br>New cases: 785<br>New deaths: 18\", \"France - 2020-03-15<br>New cases: 838<br>New deaths: 12\", \"France - 2020-03-16<br>New cases: 924<br>New deaths: 36\", \"France - 2020-03-17<br>New cases: 1210<br>New deaths: 21\", \"France - 2020-03-18<br>New cases: 1097<br>New deaths: 27\"], \"textposition\": \"middle right\", \"type\": \"scatter\", \"x\": [1784, 2281, 2876, 3661, 4499, 5423, 6633, 7730], \"y\": [0.018497757847533634, 0.02104340201665936, 0.02121001390820584, 0.02157880360557225, 0.02022671704823294, 0.023418771897473722, 0.02231267902909694, 0.022639068564036222]}, {\"mode\": \"text\", \"name\": \"France\", \"showlegend\": false, \"text\": \"France\", \"textposition\": \"middle right\", \"type\": \"scatter\", \"x\": [7730], \"y\": [0.022639068564036222]}, {\"mode\": \"lines+markers\", \"name\": \"Germany\", \"text\": [\"Germany - 2020-03-12<br>New cases: 271<br>New deaths: 1\", \"Germany - 2020-03-13<br>New cases: 802<br>New deaths: 2\", \"Germany - 2020-03-14<br>New cases: 693<br>New deaths: 0\", \"Germany - 2020-03-15<br>New cases: 733<br>New deaths: 3\", \"Germany - 2020-03-16<br>New cases: 1043<br>New deaths: 4\", \"Germany - 2020-03-17<br>New cases: 1174<br>New deaths: 1\", \"Germany - 2020-03-18<br>New cases: 1144<br>New deaths: 0\"], \"textposition\": \"middle right\", \"type\": \"scatter\", \"x\": [1567, 2369, 3062, 3795, 4838, 6012, 7156], \"y\": [0.0019144862795149968, 0.002110595187842972, 0.0016329196603527107, 0.002108036890645586, 0.0024803637866887144, 0.002162341982701264, 0.0018166573504751259]}, {\"mode\": \"text\", \"name\": \"Germany\", \"showlegend\": false, \"text\": \"Germany\", \"textposition\": \"middle right\", \"type\": \"scatter\", \"x\": [7156], \"y\": [0.0018166573504751259]}, {\"mode\": \"lines+markers\", \"name\": \"Iran\", \"text\": [\"Iran - 2020-03-03<br>New cases: 523<br>New deaths: 12\", \"Iran - 2020-03-04<br>New cases: 835<br>New deaths: 11\", \"Iran - 2020-03-05<br>New cases: 586<br>New deaths: 15\", \"Iran - 2020-03-06<br>New cases: 591<br>New deaths: 15\", \"Iran - 2020-03-07<br>New cases: 1234<br>New deaths: 17\", \"Iran - 2020-03-08<br>New cases: 1076<br>New deaths: 21\", \"Iran - 2020-03-09<br>New cases: 743<br>New deaths: 49\", \"Iran - 2020-03-10<br>New cases: 595<br>New deaths: 43\", \"Iran - 2020-03-11<br>New cases: 881<br>New deaths: 54\", \"Iran - 2020-03-12<br>New cases: 958<br>New deaths: 63\", \"Iran - 2020-03-13<br>New cases: 1075<br>New deaths: 75\", \"Iran - 2020-03-14<br>New cases: 1289<br>New deaths: 85\", \"Iran - 2020-03-15<br>New cases: 1365<br>New deaths: 97\", \"Iran - 2020-03-16<br>New cases: 1209<br>New deaths: 113\", \"Iran - 2020-03-17<br>New cases: 1053<br>New deaths: 129\", \"Iran - 2020-03-18<br>New cases: 1178<br>New deaths: 135\"], \"textposition\": \"middle right\", \"type\": \"scatter\", \"x\": [1501, 2336, 2922, 3513, 4747, 5823, 6566, 7161, 8042, 9000, 10075, 11364, 12729, 13938, 14991, 16169], \"y\": [0.04397068620919387, 0.03296232876712329, 0.03148528405201916, 0.03045829775120979, 0.02612176111228144, 0.024901253649321657, 0.02954614681693573, 0.03309593632174277, 0.03618502859985078, 0.03933333333333333, 0.04258064516129032, 0.04523055262231609, 0.048000628486134025, 0.05194432486726933, 0.056900807150957244, 0.06110458284371328]}, {\"mode\": \"text\", \"name\": \"Iran\", \"showlegend\": false, \"text\": \"Iran\", \"textposition\": \"middle right\", \"type\": \"scatter\", \"x\": [16169], \"y\": [0.06110458284371328]}, {\"mode\": \"lines+markers\", \"name\": \"Italy\", \"text\": [\"Italy - 2020-03-02<br>New cases: 561<br>New deaths: 6\", \"Italy - 2020-03-03<br>New cases: 146<br>New deaths: 17\", \"Italy - 2020-03-04<br>New cases: 667<br>New deaths: 28\", \"Italy - 2020-03-05<br>New cases: 587<br>New deaths: 27\", \"Italy - 2020-03-06<br>New cases: 769<br>New deaths: 41\", \"Italy - 2020-03-07<br>New cases: 778<br>New deaths: 49\", \"Italy - 2020-03-08<br>New cases: 1247<br>New deaths: 36\", \"Italy - 2020-03-09<br>New cases: 1492<br>New deaths: 133\", \"Italy - 2020-03-10<br>New cases: 1797<br>New deaths: 98\", \"Italy - 2020-03-11<br>New cases: 977<br>New deaths: 167\", \"Italy - 2020-03-12<br>New cases: 2313<br>New deaths: 196\", \"Italy - 2020-03-13<br>New cases: 2651<br>New deaths: 189\", \"Italy - 2020-03-14<br>New cases: 2547<br>New deaths: 252\", \"Italy - 2020-03-15<br>New cases: 90<br>New deaths: 173\", \"Italy - 2020-03-16<br>New cases: 6230<br>New deaths: 370\", \"Italy - 2020-03-17<br>New cases: 4000<br>New deaths: 347\", \"Italy - 2020-03-18<br>New cases: 3526<br>New deaths: 347\"], \"textposition\": \"middle right\", \"type\": \"scatter\", \"x\": [1689, 1835, 2502, 3089, 3858, 4636, 5883, 7375, 9172, 10149, 12462, 15113, 17660, 17750, 23980, 27980, 31506], \"y\": [0.020722320899940794, 0.028337874659400544, 0.0319744204636291, 0.03463904176108773, 0.0383618455158113, 0.042493528904227786, 0.039605643379228284, 0.0496271186440678, 0.05058874836458788, 0.062173613163858506, 0.06636173968865351, 0.06722689075630252, 0.07180067950169876, 0.08118309859154929, 0.07552126772310258, 0.0771265189421015, 0.07950866501618739]}, {\"mode\": \"text\", \"name\": \"Italy\", \"showlegend\": false, \"text\": \"Italy\", \"textposition\": \"middle right\", \"type\": \"scatter\", \"x\": [31506], \"y\": [0.07950866501618739]}, {\"mode\": \"lines+markers\", \"name\": \"Netherlands\", \"text\": [\"Netherlands - 2020-03-18<br>New cases: 292<br>New deaths: 0\"], \"textposition\": \"middle right\", \"type\": \"scatter\", \"x\": [1705], \"y\": [0.01407624633431085]}, {\"mode\": \"text\", \"name\": \"Netherlands\", \"showlegend\": false, \"text\": \"Netherlands\", \"textposition\": \"middle right\", \"type\": \"scatter\", \"x\": [1705], \"y\": [0.01407624633431085]}, {\"mode\": \"lines+markers\", \"name\": \"South_Korea\", \"text\": [\"South_Korea - 2020-02-27<br>New cases: 449<br>New deaths: 1\", \"South_Korea - 2020-02-28<br>New cases: 427<br>New deaths: 1\", \"South_Korea - 2020-02-29<br>New cases: 909<br>New deaths: 3\", \"South_Korea - 2020-03-01<br>New cases: 595<br>New deaths: 1\", \"South_Korea - 2020-03-02<br>New cases: 686<br>New deaths: 5\", \"South_Korea - 2020-03-03<br>New cases: 600<br>New deaths: 6\", \"South_Korea - 2020-03-04<br>New cases: 516<br>New deaths: 4\", \"South_Korea - 2020-03-05<br>New cases: 438<br>New deaths: 3\", \"South_Korea - 2020-03-06<br>New cases: 518<br>New deaths: 7\", \"South_Korea - 2020-03-07<br>New cases: 483<br>New deaths: 2\", \"South_Korea - 2020-03-08<br>New cases: 367<br>New deaths: 6\", \"South_Korea - 2020-03-09<br>New cases: 248<br>New deaths: 1\", \"South_Korea - 2020-03-10<br>New cases: 131<br>New deaths: 3\", \"South_Korea - 2020-03-11<br>New cases: 242<br>New deaths: 6\", \"South_Korea - 2020-03-12<br>New cases: 114<br>New deaths: 6\", \"South_Korea - 2020-03-13<br>New cases: 110<br>New deaths: 1\", \"South_Korea - 2020-03-14<br>New cases: 107<br>New deaths: 5\", \"South_Korea - 2020-03-15<br>New cases: 76<br>New deaths: 3\", \"South_Korea - 2020-03-16<br>New cases: 74<br>New deaths: 0\", \"South_Korea - 2020-03-17<br>New cases: 84<br>New deaths: 6\", \"South_Korea - 2020-03-18<br>New cases: 93<br>New deaths: 5\"], \"textposition\": \"middle right\", \"type\": \"scatter\", \"x\": [1595, 2022, 2931, 3526, 4212, 4812, 5328, 5766, 6284, 6767, 7134, 7382, 7513, 7755, 7869, 7979, 8086, 8162, 8236, 8320, 8413], \"y\": [0.007523510971786834, 0.006429277942631058, 0.005458887751620608, 0.004821327283040272, 0.0052231718898385565, 0.005818786367414797, 0.006006006006006006, 0.0060700659035726676, 0.00668364099299809, 0.0065021427515885915, 0.007008690776562938, 0.006908696830127336, 0.007187541594569413, 0.007736943907156673, 0.008387342737323675, 0.008397042235869156, 0.008904279000742024, 0.009188924283263906, 0.009106362311801846, 0.009735576923076923, 0.010222275050517057]}, {\"mode\": \"text\", \"name\": \"South_Korea\", \"showlegend\": false, \"text\": \"South_Korea\", \"textposition\": \"middle right\", \"type\": \"scatter\", \"x\": [8413], \"y\": [0.010222275050517057]}, {\"mode\": \"lines+markers\", \"name\": \"Spain\", \"text\": [\"Spain - 2020-03-11<br>New cases: 435<br>New deaths: 7\", \"Spain - 2020-03-12<br>New cases: 501<br>New deaths: 12\", \"Spain - 2020-03-13<br>New cases: 864<br>New deaths: 37\", \"Spain - 2020-03-14<br>New cases: 1227<br>New deaths: 37\", \"Spain - 2020-03-15<br>New cases: 1522<br>New deaths: 15\", \"Spain - 2020-03-16<br>New cases: 2000<br>New deaths: 152\", \"Spain - 2020-03-17<br>New cases: 1438<br>New deaths: 21\", \"Spain - 2020-03-18<br>New cases: 1987<br>New deaths: 182\"], \"textposition\": \"middle right\", \"type\": \"scatter\", \"x\": [1639, 2140, 3004, 4231, 5753, 7753, 9191, 11178], \"y\": [0.021354484441732765, 0.021962616822429906, 0.02796271637816245, 0.028598440085086267, 0.02363984008343473, 0.03714691087321037, 0.03361984550103362, 0.043925568080157455]}, {\"mode\": \"text\", \"name\": \"Spain\", \"showlegend\": false, \"text\": \"Spain\", \"textposition\": \"middle right\", \"type\": \"scatter\", \"x\": [11178], \"y\": [0.043925568080157455]}, {\"mode\": \"lines+markers\", \"name\": \"Switzerland\", \"text\": [\"Switzerland - 2020-03-16<br>New cases: 841<br>New deaths: 2\", \"Switzerland - 2020-03-17<br>New cases: 0<br>New deaths: 1\", \"Switzerland - 2020-03-18<br>New cases: 450<br>New deaths: 5\"], \"textposition\": \"middle right\", \"type\": \"scatter\", \"x\": [2200, 2200, 2650], \"y\": [0.005909090909090909, 0.006363636363636364, 0.007169811320754717]}, {\"mode\": \"text\", \"name\": \"Switzerland\", \"showlegend\": false, \"text\": \"Switzerland\", \"textposition\": \"middle right\", \"type\": \"scatter\", \"x\": [2650], \"y\": [0.007169811320754717]}, {\"mode\": \"lines+markers\", \"name\": \"United_Kingdom\", \"text\": [\"United_Kingdom - 2020-03-17<br>New cases: 152<br>New deaths: 20\", \"United_Kingdom - 2020-03-18<br>New cases: 407<br>New deaths: 5\"], \"textposition\": \"middle right\", \"type\": \"scatter\", \"x\": [1543, 1950], \"y\": [0.0356448476992871, 0.03076923076923077]}, {\"mode\": \"text\", \"name\": \"United_Kingdom\", \"showlegend\": false, \"text\": \"United_Kingdom\", \"textposition\": \"middle right\", \"type\": \"scatter\", \"x\": [1950], \"y\": [0.03076923076923077]}, {\"mode\": \"lines+markers\", \"name\": \"United_States_of_America\", \"text\": [\"United_States_of_America - 2020-03-13<br>New cases: 351<br>New deaths: 10\", \"United_States_of_America - 2020-03-14<br>New cases: 511<br>New deaths: 7\", \"United_States_of_America - 2020-03-15<br>New cases: 777<br>New deaths: 10\", \"United_States_of_America - 2020-03-16<br>New cases: 823<br>New deaths: 12\", \"United_States_of_America - 2020-03-17<br>New cases: 887<br>New deaths: 16\", \"United_States_of_America - 2020-03-18<br>New cases: 1766<br>New deaths: 23\"], \"textposition\": \"middle right\", \"type\": \"scatter\", \"x\": [1663, 2174, 2951, 3774, 4661, 6427], \"y\": [0.024052916416115455, 0.021619135234590615, 0.0193154862758387, 0.018282988871224166, 0.018236429950654366, 0.016804107670763964]}, {\"mode\": \"text\", \"name\": \"United_States_of_America\", \"showlegend\": false, \"text\": \"United_States_of_America\", \"textposition\": \"middle right\", \"type\": \"scatter\", \"x\": [6427], \"y\": [0.016804107670763964]}],\n",
       "                        {\"template\": {\"data\": {\"bar\": [{\"error_x\": {\"color\": \"#2a3f5f\"}, \"error_y\": {\"color\": \"#2a3f5f\"}, \"marker\": {\"line\": {\"color\": \"#E5ECF6\", \"width\": 0.5}}, \"type\": \"bar\"}], \"barpolar\": [{\"marker\": {\"line\": {\"color\": \"#E5ECF6\", \"width\": 0.5}}, \"type\": \"barpolar\"}], \"carpet\": [{\"aaxis\": {\"endlinecolor\": \"#2a3f5f\", \"gridcolor\": \"white\", \"linecolor\": \"white\", \"minorgridcolor\": \"white\", \"startlinecolor\": \"#2a3f5f\"}, \"baxis\": {\"endlinecolor\": \"#2a3f5f\", \"gridcolor\": \"white\", \"linecolor\": \"white\", \"minorgridcolor\": \"white\", \"startlinecolor\": \"#2a3f5f\"}, \"type\": \"carpet\"}], \"choropleth\": [{\"colorbar\": {\"outlinewidth\": 0, \"ticks\": \"\"}, \"type\": \"choropleth\"}], \"contour\": [{\"colorbar\": {\"outlinewidth\": 0, \"ticks\": \"\"}, \"colorscale\": [[0.0, \"#0d0887\"], [0.1111111111111111, \"#46039f\"], [0.2222222222222222, \"#7201a8\"], [0.3333333333333333, \"#9c179e\"], [0.4444444444444444, \"#bd3786\"], [0.5555555555555556, \"#d8576b\"], [0.6666666666666666, \"#ed7953\"], [0.7777777777777778, \"#fb9f3a\"], [0.8888888888888888, \"#fdca26\"], [1.0, \"#f0f921\"]], \"type\": \"contour\"}], \"contourcarpet\": [{\"colorbar\": {\"outlinewidth\": 0, \"ticks\": \"\"}, \"type\": \"contourcarpet\"}], \"heatmap\": [{\"colorbar\": {\"outlinewidth\": 0, \"ticks\": \"\"}, \"colorscale\": [[0.0, \"#0d0887\"], [0.1111111111111111, \"#46039f\"], [0.2222222222222222, \"#7201a8\"], [0.3333333333333333, \"#9c179e\"], [0.4444444444444444, \"#bd3786\"], [0.5555555555555556, \"#d8576b\"], [0.6666666666666666, \"#ed7953\"], [0.7777777777777778, \"#fb9f3a\"], [0.8888888888888888, \"#fdca26\"], [1.0, \"#f0f921\"]], \"type\": \"heatmap\"}], \"heatmapgl\": [{\"colorbar\": {\"outlinewidth\": 0, \"ticks\": \"\"}, \"colorscale\": [[0.0, \"#0d0887\"], [0.1111111111111111, \"#46039f\"], [0.2222222222222222, \"#7201a8\"], [0.3333333333333333, \"#9c179e\"], [0.4444444444444444, \"#bd3786\"], [0.5555555555555556, \"#d8576b\"], [0.6666666666666666, \"#ed7953\"], [0.7777777777777778, \"#fb9f3a\"], [0.8888888888888888, \"#fdca26\"], [1.0, \"#f0f921\"]], \"type\": \"heatmapgl\"}], \"histogram\": [{\"marker\": {\"colorbar\": {\"outlinewidth\": 0, \"ticks\": \"\"}}, \"type\": \"histogram\"}], \"histogram2d\": [{\"colorbar\": {\"outlinewidth\": 0, \"ticks\": \"\"}, \"colorscale\": [[0.0, \"#0d0887\"], [0.1111111111111111, \"#46039f\"], [0.2222222222222222, \"#7201a8\"], [0.3333333333333333, \"#9c179e\"], [0.4444444444444444, \"#bd3786\"], [0.5555555555555556, \"#d8576b\"], [0.6666666666666666, \"#ed7953\"], [0.7777777777777778, \"#fb9f3a\"], [0.8888888888888888, \"#fdca26\"], [1.0, \"#f0f921\"]], \"type\": \"histogram2d\"}], \"histogram2dcontour\": [{\"colorbar\": {\"outlinewidth\": 0, \"ticks\": \"\"}, \"colorscale\": [[0.0, \"#0d0887\"], [0.1111111111111111, \"#46039f\"], [0.2222222222222222, \"#7201a8\"], [0.3333333333333333, \"#9c179e\"], [0.4444444444444444, \"#bd3786\"], [0.5555555555555556, \"#d8576b\"], [0.6666666666666666, \"#ed7953\"], [0.7777777777777778, \"#fb9f3a\"], [0.8888888888888888, \"#fdca26\"], [1.0, \"#f0f921\"]], \"type\": \"histogram2dcontour\"}], \"mesh3d\": [{\"colorbar\": {\"outlinewidth\": 0, \"ticks\": \"\"}, \"type\": \"mesh3d\"}], \"parcoords\": [{\"line\": {\"colorbar\": {\"outlinewidth\": 0, \"ticks\": \"\"}}, \"type\": \"parcoords\"}], \"pie\": [{\"automargin\": true, \"type\": \"pie\"}], \"scatter\": [{\"marker\": {\"colorbar\": {\"outlinewidth\": 0, \"ticks\": \"\"}}, \"type\": \"scatter\"}], \"scatter3d\": [{\"line\": {\"colorbar\": {\"outlinewidth\": 0, \"ticks\": \"\"}}, \"marker\": {\"colorbar\": {\"outlinewidth\": 0, \"ticks\": \"\"}}, \"type\": \"scatter3d\"}], \"scattercarpet\": [{\"marker\": {\"colorbar\": {\"outlinewidth\": 0, \"ticks\": \"\"}}, \"type\": \"scattercarpet\"}], \"scattergeo\": [{\"marker\": {\"colorbar\": {\"outlinewidth\": 0, \"ticks\": \"\"}}, \"type\": \"scattergeo\"}], \"scattergl\": [{\"marker\": {\"colorbar\": {\"outlinewidth\": 0, \"ticks\": \"\"}}, \"type\": \"scattergl\"}], \"scattermapbox\": [{\"marker\": {\"colorbar\": {\"outlinewidth\": 0, \"ticks\": \"\"}}, \"type\": \"scattermapbox\"}], \"scatterpolar\": [{\"marker\": {\"colorbar\": {\"outlinewidth\": 0, \"ticks\": \"\"}}, \"type\": \"scatterpolar\"}], \"scatterpolargl\": [{\"marker\": {\"colorbar\": {\"outlinewidth\": 0, \"ticks\": \"\"}}, \"type\": \"scatterpolargl\"}], \"scatterternary\": [{\"marker\": {\"colorbar\": {\"outlinewidth\": 0, \"ticks\": \"\"}}, \"type\": \"scatterternary\"}], \"surface\": [{\"colorbar\": {\"outlinewidth\": 0, \"ticks\": \"\"}, \"colorscale\": [[0.0, \"#0d0887\"], [0.1111111111111111, \"#46039f\"], [0.2222222222222222, \"#7201a8\"], [0.3333333333333333, \"#9c179e\"], [0.4444444444444444, \"#bd3786\"], [0.5555555555555556, \"#d8576b\"], [0.6666666666666666, \"#ed7953\"], [0.7777777777777778, \"#fb9f3a\"], [0.8888888888888888, \"#fdca26\"], [1.0, \"#f0f921\"]], \"type\": \"surface\"}], \"table\": [{\"cells\": {\"fill\": {\"color\": \"#EBF0F8\"}, \"line\": {\"color\": \"white\"}}, \"header\": {\"fill\": {\"color\": \"#C8D4E3\"}, \"line\": {\"color\": \"white\"}}, \"type\": \"table\"}]}, \"layout\": {\"annotationdefaults\": {\"arrowcolor\": \"#2a3f5f\", \"arrowhead\": 0, \"arrowwidth\": 1}, \"coloraxis\": {\"colorbar\": {\"outlinewidth\": 0, \"ticks\": \"\"}}, \"colorscale\": {\"diverging\": [[0, \"#8e0152\"], [0.1, \"#c51b7d\"], [0.2, \"#de77ae\"], [0.3, \"#f1b6da\"], [0.4, \"#fde0ef\"], [0.5, \"#f7f7f7\"], [0.6, \"#e6f5d0\"], [0.7, \"#b8e186\"], [0.8, \"#7fbc41\"], [0.9, \"#4d9221\"], [1, \"#276419\"]], \"sequential\": [[0.0, \"#0d0887\"], [0.1111111111111111, \"#46039f\"], [0.2222222222222222, \"#7201a8\"], [0.3333333333333333, \"#9c179e\"], [0.4444444444444444, \"#bd3786\"], [0.5555555555555556, \"#d8576b\"], [0.6666666666666666, \"#ed7953\"], [0.7777777777777778, \"#fb9f3a\"], [0.8888888888888888, \"#fdca26\"], [1.0, \"#f0f921\"]], \"sequentialminus\": [[0.0, \"#0d0887\"], [0.1111111111111111, \"#46039f\"], [0.2222222222222222, \"#7201a8\"], [0.3333333333333333, \"#9c179e\"], [0.4444444444444444, \"#bd3786\"], [0.5555555555555556, \"#d8576b\"], [0.6666666666666666, \"#ed7953\"], [0.7777777777777778, \"#fb9f3a\"], [0.8888888888888888, \"#fdca26\"], [1.0, \"#f0f921\"]]}, \"colorway\": [\"#636efa\", \"#EF553B\", \"#00cc96\", \"#ab63fa\", \"#FFA15A\", \"#19d3f3\", \"#FF6692\", \"#B6E880\", \"#FF97FF\", \"#FECB52\"], \"font\": {\"color\": \"#2a3f5f\"}, \"geo\": {\"bgcolor\": \"white\", \"lakecolor\": \"white\", \"landcolor\": \"#E5ECF6\", \"showlakes\": true, \"showland\": true, \"subunitcolor\": \"white\"}, \"hoverlabel\": {\"align\": \"left\"}, \"hovermode\": \"closest\", \"mapbox\": {\"style\": \"light\"}, \"paper_bgcolor\": \"white\", \"plot_bgcolor\": \"#E5ECF6\", \"polar\": {\"angularaxis\": {\"gridcolor\": \"white\", \"linecolor\": \"white\", \"ticks\": \"\"}, \"bgcolor\": \"#E5ECF6\", \"radialaxis\": {\"gridcolor\": \"white\", \"linecolor\": \"white\", \"ticks\": \"\"}}, \"scene\": {\"xaxis\": {\"backgroundcolor\": \"#E5ECF6\", \"gridcolor\": \"white\", \"gridwidth\": 2, \"linecolor\": \"white\", \"showbackground\": true, \"ticks\": \"\", \"zerolinecolor\": \"white\"}, \"yaxis\": {\"backgroundcolor\": \"#E5ECF6\", \"gridcolor\": \"white\", \"gridwidth\": 2, \"linecolor\": \"white\", \"showbackground\": true, \"ticks\": \"\", \"zerolinecolor\": \"white\"}, \"zaxis\": {\"backgroundcolor\": \"#E5ECF6\", \"gridcolor\": \"white\", \"gridwidth\": 2, \"linecolor\": \"white\", \"showbackground\": true, \"ticks\": \"\", \"zerolinecolor\": \"white\"}}, \"shapedefaults\": {\"line\": {\"color\": \"#2a3f5f\"}}, \"ternary\": {\"aaxis\": {\"gridcolor\": \"white\", \"linecolor\": \"white\", \"ticks\": \"\"}, \"baxis\": {\"gridcolor\": \"white\", \"linecolor\": \"white\", \"ticks\": \"\"}, \"bgcolor\": \"#E5ECF6\", \"caxis\": {\"gridcolor\": \"white\", \"linecolor\": \"white\", \"ticks\": \"\"}}, \"title\": {\"x\": 0.05}, \"xaxis\": {\"automargin\": true, \"gridcolor\": \"white\", \"linecolor\": \"white\", \"ticks\": \"\", \"title\": {\"standoff\": 15}, \"zerolinecolor\": \"white\", \"zerolinewidth\": 2}, \"yaxis\": {\"automargin\": true, \"gridcolor\": \"white\", \"linecolor\": \"white\", \"ticks\": \"\", \"title\": {\"standoff\": 15}, \"zerolinecolor\": \"white\", \"zerolinewidth\": 2}}}, \"xaxis\": {\"title\": {\"text\": \"Cumulative number of cases\"}, \"type\": \"log\"}, \"yaxis\": {\"title\": {\"text\": \"Mortality\"}, \"type\": \"log\"}},\n",
       "                        {\"responsive\": true}\n",
       "                    ).then(function(){\n",
       "                            \n",
       "var gd = document.getElementById('5bc3230d-4220-44ae-8cb6-60ddfb354b4b');\n",
       "var x = new MutationObserver(function (mutations, observer) {{\n",
       "        var display = window.getComputedStyle(gd).display;\n",
       "        if (!display || display === 'none') {{\n",
       "            console.log([gd, 'removed!']);\n",
       "            Plotly.purge(gd);\n",
       "            observer.disconnect();\n",
       "        }}\n",
       "}});\n",
       "\n",
       "// Listen for the removal of the full notebook cells\n",
       "var notebookContainer = gd.closest('#notebook-container');\n",
       "if (notebookContainer) {{\n",
       "    x.observe(notebookContainer, {childList: true});\n",
       "}}\n",
       "\n",
       "// Listen for the clearing of the current output cell\n",
       "var outputEl = gd.closest('.output');\n",
       "if (outputEl) {{\n",
       "    x.observe(outputEl, {childList: true});\n",
       "}}\n",
       "\n",
       "                        })\n",
       "                };\n",
       "                });\n",
       "            </script>\n",
       "        </div>"
      ]
     },
     "metadata": {},
     "output_type": "display_data"
    }
   ],
   "source": [
    "import plotly.graph_objects as go\n",
    "import plotly.express as px\n",
    "\n",
    "fig = go.Figure()\n",
    "\n",
    "grouped = df[df[\"casescumsum\"] > 1500].groupby(\"Countries and territories\")\n",
    "print(df)\n",
    "\n",
    "for name, group in grouped:\n",
    "    pointCount = len(group[\"mortality\"].index)\n",
    "    group = group.reset_index()\n",
    "    fig.add_trace(go.Scatter(\n",
    "            x = group[\"casescumsum\"], \n",
    "            y = group[\"mortality\"], \n",
    "            mode = 'lines+markers',\n",
    "            name = name,\n",
    "            text = [ (f'{name} - {group[\"DateRep\"].at[i].date()}<br>New cases: {group[\"Cases\"].at[i]}<br>New deaths: {group[\"Deaths\"].at[i]}') for i in range(pointCount)  ],\n",
    "            textposition=\"middle right\"\n",
    "            )\n",
    "        )\n",
    "    groupTail = group.tail(1)\n",
    "    fig.add_trace(go.Scatter(\n",
    "            x = groupTail[\"casescumsum\"], \n",
    "            y = groupTail[\"mortality\"], \n",
    "            mode = 'text',\n",
    "            name = name,\n",
    "            text = name,\n",
    "            textposition=\"middle right\",\n",
    "            showlegend = False\n",
    "            )\n",
    "        )\n",
    "\n",
    "# fig = px.line(df[df[\"casescumsum\"] > 1000], \n",
    "#               x=\"casescumsum\", \n",
    "#               y=\"mortality\", \n",
    "#               color=\"Countries and territories\", \n",
    "#               line_group=\"Countries and territories\", \n",
    "#               hover_name=\"Countries and territories\",\n",
    "# #               text=\"Countries and territories\",\n",
    "#               log_x = True,\n",
    "#               log_y = True\n",
    "#         ) #line_shape=\"spline\") #, render_mode=\"svg\")\n",
    "\n",
    "fig.update_xaxes(title_text='Cumulative number of cases')\n",
    "fig.update_yaxes(title_text='Mortality')\n",
    "fig.update_layout(xaxis_type=\"log\", yaxis_type=\"log\")\n",
    "# fig.write_image(\"fig1.html\")\n",
    "fig.show()"
   ]
  },
  {
   "cell_type": "code",
   "execution_count": 8,
   "metadata": {},
   "outputs": [],
   "source": [
    "with open(\"docs/index.html\", \"w\") as f:\n",
    "    f.write(fig.to_html())"
   ]
  },
  {
   "cell_type": "code",
   "execution_count": null,
   "metadata": {},
   "outputs": [],
   "source": []
  }
 ],
 "metadata": {
  "kernelspec": {
   "display_name": "Python 3",
   "language": "python",
   "name": "python3"
  },
  "language_info": {
   "codemirror_mode": {
    "name": "ipython",
    "version": 3
   },
   "file_extension": ".py",
   "mimetype": "text/x-python",
   "name": "python",
   "nbconvert_exporter": "python",
   "pygments_lexer": "ipython3",
   "version": "3.8.2"
  }
 },
 "nbformat": 4,
 "nbformat_minor": 4
}
